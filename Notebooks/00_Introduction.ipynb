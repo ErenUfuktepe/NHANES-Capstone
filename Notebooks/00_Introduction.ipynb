{
 "cells": [
  {
   "cell_type": "markdown",
   "metadata": {},
   "source": [
    "# The Risk of Hypertension Prediction Using Simple Life Factors"
   ]
  },
  {
   "cell_type": "markdown",
   "metadata": {},
   "source": [
    "## Introduction\n",
    "\n",
    "Blood pressure is the pressure of blood pushing against the walls of arteries. Having high blood pressure can increase the risk for cardiovascular disease and stroke, two leading causes of death for Americans. As a primary or contributing cause of death, hypertension was responsible for 516,955 people deaths in the United States in 2019. Studies have shown that nearly half of adults in the United States (47%) have high blood pressure, and among them, only 24% have their condition under control. \n",
    "\n",
    "\n",
    "<img src=\"img/img1.png\" alt=\"drawing\" style=\"width:500px;\"/>\n",
    "\n",
    "\n",
    "The figure is from https://www.avogel.co.uk/health/mens-health/high-blood-pressure-what-you-need-to-know/\n",
    "\n",
    "Many studies have shown that the increased blood pressure has relationship with lifestyle changes, for example, unhealthy nutrition, smoking and drinking etc. However, most of the studies have separately examined the relationship between different lifestyle related factors and hypertension. In fact, lifestyle should be considered in a whole systematic way to a person. In this study, we looked at different lifestyle subgroups characteristics and their relationships with blood pressure. This study will lend evidence for physicians/nurses\n",
    "to provide advice about lifestyle\n",
    "behaviors for patients who have\n",
    "hypertension."
   ]
  },
  {
   "cell_type": "markdown",
   "metadata": {},
   "source": [
    "## DATASET\n",
    "\n",
    "#### NHANES data\n",
    "NHNES stands for National Health and Nutrition Examination Survey. It is a major program of the National Center for Health Statistics (NCHS), which is part of the Centers for Disease Control and Prevention (CDC). This program study is designed to assess the health and nutritional status of adults and children in the United States and combines interviews and physical examinations. The survey data are available on the internet for data users and researchers throughout the world. \n"
   ]
  },
  {
   "cell_type": "markdown",
   "metadata": {},
   "source": [
    "## DATA ANALYSIS PIPELINE\n",
    "![data_analysis_pipeline.png MISSING](img/img2.png)"
   ]
  },
  {
   "cell_type": "markdown",
   "metadata": {},
   "source": [
    "## Notebooks\n",
    "\n",
    "Below is the list of notebooks where you can find more about our codes and analysis.\n",
    "\n",
    "- 1. [Collecting Data](01_Downloading_Data.ipynb)\n",
    "- 2. [Loading Data to PostgreSQL Database](02_ETL.ipynb)\n",
    "- 3. [Data Cleaning](03_Data_Cleaning.ipynb)\n",
    "- 4. [Data Visualization](04_Data_Visualization.ipynb)\n",
    "- 5. [Feature Importance](05_Feature_Importance.ipynb)\n",
    "- 6. [Model Selection](06_Model_Selection.ipynb)\n",
    "- 7. [Fairness/Bias Analysis](07_Fairness_Bias_Analysis.ipynb)\n",
    "- 8. [Model Evaluation](08_Model_Evaluation.ipynb)\n",
    "- 9. [Easy Model](09_Easy_Model.ipynb)\n"
   ]
  }
 ],
 "metadata": {
  "kernelspec": {
   "display_name": "Python 3",
   "language": "python",
   "name": "python3"
  },
  "language_info": {
   "codemirror_mode": {
    "name": "ipython",
    "version": 3
   },
   "file_extension": ".py",
   "mimetype": "text/x-python",
   "name": "python",
   "nbconvert_exporter": "python",
   "pygments_lexer": "ipython3",
   "version": "3.7.3"
  }
 },
 "nbformat": 4,
 "nbformat_minor": 2
}
