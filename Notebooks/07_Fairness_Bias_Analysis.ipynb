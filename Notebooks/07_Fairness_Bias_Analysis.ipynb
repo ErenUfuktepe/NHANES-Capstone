{
 "cells": [
  {
   "cell_type": "code",
   "execution_count": 1,
   "metadata": {},
   "outputs": [],
   "source": [
    "%matplotlib inline\n",
    "\n",
    "import matplotlib.pyplot as plt\n",
    "import os, sys\n",
    "import numpy as np\n",
    "import pandas as pd\n",
    "import joblib\n",
    "from sklearn.model_selection import cross_val_score, train_test_split\n",
    "from sklearn import preprocessing\n",
    "\n",
    "from sklearn.pipeline import Pipeline\n",
    "from sklearn.metrics import mean_absolute_error\n",
    "from sklearn.base import clone\n",
    "from sklearn.model_selection import GridSearchCV\n",
    "from sklearn.metrics import classification_report, confusion_matrix, precision_score, f1_score, recall_score, accuracy_score\n",
    "\n",
    "from sklearn.metrics import classification_report\n",
    "from sklearn.linear_model import LogisticRegression\n",
    "from sklearn.svm import SVC\n",
    "from sklearn.naive_bayes import GaussianNB\n",
    "from sklearn.naive_bayes import MultinomialNB\n",
    "from sklearn.linear_model import SGDClassifier\n",
    "from sklearn.neighbors import KNeighborsClassifier\n",
    "from sklearn.tree import DecisionTreeClassifier\n",
    "from sklearn.ensemble import RandomForestClassifier\n",
    "from sklearn.ensemble import GradientBoostingClassifier\n",
    "from xgboost.sklearn import XGBClassifier\n",
    "from sklearn.dummy import DummyClassifier\n",
    "from sklearn.neural_network import MLPClassifier\n",
    "from sklearn.metrics import confusion_matrix\n",
    "from sklearn.metrics import roc_curve\n",
    "from sklearn.metrics import roc_auc_score\n",
    "from sklearn.preprocessing import OneHotEncoder\n",
    "\n",
    "\n",
    "import matplotlib.pyplot as plt\n",
    "import seaborn as sns\n",
    "\n",
    "import warnings\n",
    "warnings.filterwarnings('ignore')"
   ]
  },
  {
   "cell_type": "code",
   "execution_count": 2,
   "metadata": {},
   "outputs": [],
   "source": [
    "df = joblib.load('/dsa/groups/capstonesp2022/on-campus/group_1/data/train_dataset.pkl')\n",
    "model = joblib.load('/dsa/groups/capstonesp2022/on-campus/group_1/data/model.pkl')"
   ]
  },
  {
   "cell_type": "code",
   "execution_count": 3,
   "metadata": {},
   "outputs": [],
   "source": [
    "features = ['age', 'gender','alcohol_usage', 'smoke', 'BMI', 'sleep_hour',\n",
    "            'race_mexican_american', 'race_other_hispanic', 'race_white','race_black', 'race_multi_racial', 'race_asian']\n",
    "target = 'HBP'"
   ]
  },
  {
   "cell_type": "code",
   "execution_count": 4,
   "metadata": {},
   "outputs": [],
   "source": [
    "X = df[features]\n",
    "y = df[target]\n",
    "\n",
    "X_train, X_test, y_train, y_test = train_test_split(X, y, test_size=0.25)"
   ]
  },
  {
   "cell_type": "code",
   "execution_count": 5,
   "metadata": {},
   "outputs": [],
   "source": [
    "def model_results(model, X_train, X_test, y_train, y_test):\n",
    "    model.fit(X_train, y_train)\n",
    "    y_pred = model.predict(X_test)\n",
    "    \n",
    "    CM = confusion_matrix(y_test, y_pred)\n",
    "    TN = CM[0][0]\n",
    "    FN = CM[1][0]\n",
    "    TP = CM[1][1]\n",
    "    FP = CM[0][1]\n",
    "    \n",
    "    # Sensitivity, hit rate, recall, or true positive rate\n",
    "    TPR = round(TP/(TP+FN),2)\n",
    "    # Specificity or true negative rate\n",
    "    TNR = round(TN/(TN+FP),2)\n",
    "    # Precision or positive predictive value\n",
    "    PPV = round(TP/(TP+FP),2)\n",
    "    # Negative predictive value\n",
    "    NPV = round(TN/(TN+FN),2)\n",
    "    # Fall out or false positive rate\n",
    "    FPR = round(FP/(FP+TN),2)\n",
    "    # False negative rate\n",
    "    FNR = round(FN/(TP+FN),2)\n",
    "    \n",
    "    # AUC\n",
    "    # predict probabilities\n",
    "    probs = model.predict_proba(X_test)\n",
    "    # keep probabilities for the positive outcome only\n",
    "    probs = probs[:, 1]\n",
    "    AUC = round(roc_auc_score(y_test, probs),2)\n",
    "    \n",
    "    precision = round(precision_score(y_test, y_pred),2)\n",
    "    recall = round(recall_score(y_test, y_pred),2)\n",
    "    f1 = round(f1_score(y_test, y_pred),2)\n",
    "    acc = round(model.best_score_, 2)\n",
    "    \n",
    "    print(\"----Precision : {precision}\".format(precision=precision))\n",
    "    print(\"----Recall : {recall}\".format(recall=recall))\n",
    "    print(\"----F1 : {f1}\".format(f1=f1))\n",
    "    print(\"----Accurancy : {acc}\".format(acc=acc))\n",
    "    print(\"----TPR : {TPR}\".format(TPR=TPR))\n",
    "    print(\"----TNR : {TNR}\".format(TNR=TNR))\n",
    "    print(\"----PPV : {PPV}\".format(PPV=PPV))\n",
    "    print(\"----NPV : {NPV}\".format(NPV=NPV))\n",
    "    print(\"----FPR : {FPR}\".format(FPR=FPR))\n",
    "    print(\"----FNR : {FNR}\".format(FNR=FNR))\n",
    "    print(\"----AUC : {AUC}\".format(AUC=AUC))\n",
    "    print('\\n')\n",
    "    \n",
    "    return (model, [TPR, TNR, PPV, NPV, FPR, FNR, precision, recall, f1, acc, AUC])"
   ]
  },
  {
   "cell_type": "code",
   "execution_count": 6,
   "metadata": {},
   "outputs": [],
   "source": [
    "def calculate_metrics(dataframe, column):\n",
    "    tmp_df = pd.DataFrame(columns = [column.capitalize(),'FNR','TPR', 'FPR', 'TNR'])\n",
    "    for value in dataframe[column].unique():\n",
    "        tmp = dataframe.loc[dataframe[column] == value]\n",
    "        CM = confusion_matrix(tmp['actual'], tmp['y_predict'])\n",
    "        TN = CM[0][0]\n",
    "        FN = CM[1][0]\n",
    "        TP = CM[1][1]\n",
    "        FP = CM[0][1]\n",
    "\n",
    "        # Sensitivity, hit rate, recall, or true positive rate\n",
    "        TPR = TP/(TP+FN)\n",
    "        # Specificity or true negative rate\n",
    "        TNR = TN/(TN+FP) \n",
    "        # Precision or positive predictive value\n",
    "        PPV = TP/(TP+FP)\n",
    "        # Negative predictive value\n",
    "        NPV = TN/(TN+FN)\n",
    "        # Fall out or false positive rate\n",
    "        FPR = FP/(FP+TN)\n",
    "        # False negative rate\n",
    "        FNR = FN/(TP+FN)\n",
    "        \n",
    "        tmp_df = tmp_df.append({column.capitalize():value, 'FNR': FNR, 'TPR': TPR, 'FPR':FPR,'TNR':TNR},ignore_index=True)\n",
    "    return tmp_df"
   ]
  },
  {
   "cell_type": "code",
   "execution_count": 7,
   "metadata": {},
   "outputs": [
    {
     "name": "stdout",
     "output_type": "stream",
     "text": [
      "----Precision : 0.73\n",
      "----Recall : 0.74\n",
      "----F1 : 0.73\n",
      "----Accurancy : 0.8\n",
      "----TPR : 0.74\n",
      "----TNR : 0.71\n",
      "----PPV : 0.73\n",
      "----NPV : 0.73\n",
      "----FPR : 0.29\n",
      "----FNR : 0.26\n",
      "----AUC : 0.79\n",
      "\n",
      "\n"
     ]
    }
   ],
   "source": [
    "result = model_results(model,X_train, X_test, y_train, y_test)"
   ]
  },
  {
   "cell_type": "code",
   "execution_count": 8,
   "metadata": {},
   "outputs": [],
   "source": [
    "y_predict = result[0].predict(X_test)"
   ]
  },
  {
   "cell_type": "markdown",
   "metadata": {},
   "source": [
    "## Racial Bias"
   ]
  },
  {
   "cell_type": "code",
   "execution_count": 9,
   "metadata": {},
   "outputs": [],
   "source": [
    "X_train_race = X_train.drop(columns=['race_mexican_american', 'race_other_hispanic', 'race_white','race_black', 'race_multi_racial', 'race_asian'])\n",
    "X_test_race = X_test.drop(columns=['race_mexican_american', 'race_other_hispanic', 'race_white','race_black', 'race_multi_racial', 'race_asian'])"
   ]
  },
  {
   "cell_type": "code",
   "execution_count": 10,
   "metadata": {},
   "outputs": [
    {
     "name": "stdout",
     "output_type": "stream",
     "text": [
      "----Precision : 0.73\n",
      "----Recall : 0.74\n",
      "----F1 : 0.73\n",
      "----Accurancy : 0.8\n",
      "----TPR : 0.74\n",
      "----TNR : 0.71\n",
      "----PPV : 0.73\n",
      "----NPV : 0.73\n",
      "----FPR : 0.29\n",
      "----FNR : 0.26\n",
      "----AUC : 0.79\n",
      "\n",
      "\n"
     ]
    }
   ],
   "source": [
    "result_race = model_results(model,X_train_race, X_test_race, y_train, y_test)"
   ]
  },
  {
   "cell_type": "code",
   "execution_count": 11,
   "metadata": {},
   "outputs": [],
   "source": [
    "y_predict_race = result_race[0].predict(X_test_race)"
   ]
  },
  {
   "cell_type": "code",
   "execution_count": 12,
   "metadata": {},
   "outputs": [],
   "source": [
    "tmp_test = X_test.copy()\n",
    "\n",
    "tmp_test['race'] = None\n",
    "tmp_test.loc[(tmp_test['race_mexican_american'] == 1) ,'race'] = 'Mexican American'\n",
    "tmp_test.loc[(tmp_test['race_other_hispanic'] == 1) ,'race'] = 'Other Hispanic'\n",
    "tmp_test.loc[(tmp_test['race_white'] == 1) ,'race'] = 'White'\n",
    "tmp_test.loc[(tmp_test['race_black'] == 1) ,'race'] = 'Black'\n",
    "tmp_test.loc[(tmp_test['race_multi_racial'] == 1) ,'race'] = 'Multi Racial'\n",
    "tmp_test.loc[(tmp_test['race_asian'] == 1) ,'race'] = 'Asian'\n",
    "\n",
    "tmp_test['y_predict'] = y_predict\n",
    "tmp_test['actual'] = y_test"
   ]
  },
  {
   "cell_type": "code",
   "execution_count": 13,
   "metadata": {},
   "outputs": [
    {
     "data": {
      "text/html": [
       "<div>\n",
       "<style scoped>\n",
       "    .dataframe tbody tr th:only-of-type {\n",
       "        vertical-align: middle;\n",
       "    }\n",
       "\n",
       "    .dataframe tbody tr th {\n",
       "        vertical-align: top;\n",
       "    }\n",
       "\n",
       "    .dataframe thead th {\n",
       "        text-align: right;\n",
       "    }\n",
       "</style>\n",
       "<table border=\"1\" class=\"dataframe\">\n",
       "  <thead>\n",
       "    <tr style=\"text-align: right;\">\n",
       "      <th></th>\n",
       "      <th>Race</th>\n",
       "      <th>FNR</th>\n",
       "      <th>TPR</th>\n",
       "      <th>FPR</th>\n",
       "      <th>TNR</th>\n",
       "    </tr>\n",
       "  </thead>\n",
       "  <tbody>\n",
       "    <tr>\n",
       "      <th>0</th>\n",
       "      <td>White</td>\n",
       "      <td>0.282979</td>\n",
       "      <td>0.717021</td>\n",
       "      <td>0.305499</td>\n",
       "      <td>0.694501</td>\n",
       "    </tr>\n",
       "    <tr>\n",
       "      <th>1</th>\n",
       "      <td>Mexican American</td>\n",
       "      <td>0.304348</td>\n",
       "      <td>0.695652</td>\n",
       "      <td>0.262376</td>\n",
       "      <td>0.737624</td>\n",
       "    </tr>\n",
       "    <tr>\n",
       "      <th>2</th>\n",
       "      <td>Asian</td>\n",
       "      <td>0.412500</td>\n",
       "      <td>0.587500</td>\n",
       "      <td>0.214286</td>\n",
       "      <td>0.785714</td>\n",
       "    </tr>\n",
       "    <tr>\n",
       "      <th>3</th>\n",
       "      <td>Other Hispanic</td>\n",
       "      <td>0.262774</td>\n",
       "      <td>0.737226</td>\n",
       "      <td>0.306667</td>\n",
       "      <td>0.693333</td>\n",
       "    </tr>\n",
       "    <tr>\n",
       "      <th>4</th>\n",
       "      <td>Multi Racial</td>\n",
       "      <td>0.285714</td>\n",
       "      <td>0.714286</td>\n",
       "      <td>0.208333</td>\n",
       "      <td>0.791667</td>\n",
       "    </tr>\n",
       "    <tr>\n",
       "      <th>5</th>\n",
       "      <td>Black</td>\n",
       "      <td>0.138801</td>\n",
       "      <td>0.861199</td>\n",
       "      <td>0.358586</td>\n",
       "      <td>0.641414</td>\n",
       "    </tr>\n",
       "  </tbody>\n",
       "</table>\n",
       "</div>"
      ],
      "text/plain": [
       "               Race       FNR       TPR       FPR       TNR\n",
       "0             White  0.282979  0.717021  0.305499  0.694501\n",
       "1  Mexican American  0.304348  0.695652  0.262376  0.737624\n",
       "2             Asian  0.412500  0.587500  0.214286  0.785714\n",
       "3    Other Hispanic  0.262774  0.737226  0.306667  0.693333\n",
       "4      Multi Racial  0.285714  0.714286  0.208333  0.791667\n",
       "5             Black  0.138801  0.861199  0.358586  0.641414"
      ]
     },
     "execution_count": 13,
     "metadata": {},
     "output_type": "execute_result"
    }
   ],
   "source": [
    "with_race = calculate_metrics(tmp_test, 'race')\n",
    "with_race"
   ]
  },
  {
   "cell_type": "code",
   "execution_count": 14,
   "metadata": {},
   "outputs": [
    {
     "data": {
      "text/html": [
       "<div>\n",
       "<style scoped>\n",
       "    .dataframe tbody tr th:only-of-type {\n",
       "        vertical-align: middle;\n",
       "    }\n",
       "\n",
       "    .dataframe tbody tr th {\n",
       "        vertical-align: top;\n",
       "    }\n",
       "\n",
       "    .dataframe thead th {\n",
       "        text-align: right;\n",
       "    }\n",
       "</style>\n",
       "<table border=\"1\" class=\"dataframe\">\n",
       "  <thead>\n",
       "    <tr style=\"text-align: right;\">\n",
       "      <th></th>\n",
       "      <th>Race</th>\n",
       "      <th>FNR</th>\n",
       "      <th>TPR</th>\n",
       "      <th>FPR</th>\n",
       "      <th>TNR</th>\n",
       "    </tr>\n",
       "  </thead>\n",
       "  <tbody>\n",
       "    <tr>\n",
       "      <th>0</th>\n",
       "      <td>White</td>\n",
       "      <td>0.276596</td>\n",
       "      <td>0.723404</td>\n",
       "      <td>0.311609</td>\n",
       "      <td>0.688391</td>\n",
       "    </tr>\n",
       "    <tr>\n",
       "      <th>1</th>\n",
       "      <td>Mexican American</td>\n",
       "      <td>0.256039</td>\n",
       "      <td>0.743961</td>\n",
       "      <td>0.316832</td>\n",
       "      <td>0.683168</td>\n",
       "    </tr>\n",
       "    <tr>\n",
       "      <th>2</th>\n",
       "      <td>Asian</td>\n",
       "      <td>0.400000</td>\n",
       "      <td>0.600000</td>\n",
       "      <td>0.214286</td>\n",
       "      <td>0.785714</td>\n",
       "    </tr>\n",
       "    <tr>\n",
       "      <th>3</th>\n",
       "      <td>Other Hispanic</td>\n",
       "      <td>0.248175</td>\n",
       "      <td>0.751825</td>\n",
       "      <td>0.300000</td>\n",
       "      <td>0.700000</td>\n",
       "    </tr>\n",
       "    <tr>\n",
       "      <th>4</th>\n",
       "      <td>Multi Racial</td>\n",
       "      <td>0.303571</td>\n",
       "      <td>0.696429</td>\n",
       "      <td>0.208333</td>\n",
       "      <td>0.791667</td>\n",
       "    </tr>\n",
       "    <tr>\n",
       "      <th>5</th>\n",
       "      <td>Black</td>\n",
       "      <td>0.186120</td>\n",
       "      <td>0.813880</td>\n",
       "      <td>0.292929</td>\n",
       "      <td>0.707071</td>\n",
       "    </tr>\n",
       "  </tbody>\n",
       "</table>\n",
       "</div>"
      ],
      "text/plain": [
       "               Race       FNR       TPR       FPR       TNR\n",
       "0             White  0.276596  0.723404  0.311609  0.688391\n",
       "1  Mexican American  0.256039  0.743961  0.316832  0.683168\n",
       "2             Asian  0.400000  0.600000  0.214286  0.785714\n",
       "3    Other Hispanic  0.248175  0.751825  0.300000  0.700000\n",
       "4      Multi Racial  0.303571  0.696429  0.208333  0.791667\n",
       "5             Black  0.186120  0.813880  0.292929  0.707071"
      ]
     },
     "execution_count": 14,
     "metadata": {},
     "output_type": "execute_result"
    }
   ],
   "source": [
    "tmp_test['y_predict'] = y_predict_race\n",
    "without_race = calculate_metrics(tmp_test, 'race')\n",
    "without_race"
   ]
  },
  {
   "cell_type": "markdown",
   "metadata": {},
   "source": [
    "## Gender Bias"
   ]
  },
  {
   "cell_type": "code",
   "execution_count": 15,
   "metadata": {},
   "outputs": [
    {
     "data": {
      "text/html": [
       "<div>\n",
       "<style scoped>\n",
       "    .dataframe tbody tr th:only-of-type {\n",
       "        vertical-align: middle;\n",
       "    }\n",
       "\n",
       "    .dataframe tbody tr th {\n",
       "        vertical-align: top;\n",
       "    }\n",
       "\n",
       "    .dataframe thead th {\n",
       "        text-align: right;\n",
       "    }\n",
       "</style>\n",
       "<table border=\"1\" class=\"dataframe\">\n",
       "  <thead>\n",
       "    <tr style=\"text-align: right;\">\n",
       "      <th></th>\n",
       "      <th>Gender</th>\n",
       "      <th>FNR</th>\n",
       "      <th>TPR</th>\n",
       "      <th>FPR</th>\n",
       "      <th>TNR</th>\n",
       "    </tr>\n",
       "  </thead>\n",
       "  <tbody>\n",
       "    <tr>\n",
       "      <th>0</th>\n",
       "      <td>Male</td>\n",
       "      <td>0.285290</td>\n",
       "      <td>0.714710</td>\n",
       "      <td>0.288591</td>\n",
       "      <td>0.711409</td>\n",
       "    </tr>\n",
       "    <tr>\n",
       "      <th>1</th>\n",
       "      <td>Female</td>\n",
       "      <td>0.223906</td>\n",
       "      <td>0.776094</td>\n",
       "      <td>0.298869</td>\n",
       "      <td>0.701131</td>\n",
       "    </tr>\n",
       "  </tbody>\n",
       "</table>\n",
       "</div>"
      ],
      "text/plain": [
       "   Gender       FNR       TPR       FPR       TNR\n",
       "0    Male  0.285290  0.714710  0.288591  0.711409\n",
       "1  Female  0.223906  0.776094  0.298869  0.701131"
      ]
     },
     "execution_count": 15,
     "metadata": {},
     "output_type": "execute_result"
    }
   ],
   "source": [
    "tmp_test['y_predict'] = y_predict\n",
    "\n",
    "tmp_test['gender_map'] = None\n",
    "tmp_test.loc[(tmp_test['gender'] == 0) ,'gender_map'] = 'Male'\n",
    "tmp_test.loc[(tmp_test['gender'] == 1) ,'gender_map'] = 'Female'\n",
    "\n",
    "with_gender = calculate_metrics(tmp_test, 'gender_map')\n",
    "with_gender = with_gender.rename(columns={'Gender_map':'Gender'})\n",
    "with_gender"
   ]
  },
  {
   "cell_type": "code",
   "execution_count": 16,
   "metadata": {},
   "outputs": [],
   "source": [
    "X_train_gender = X_train.drop(columns=['gender'])\n",
    "X_test_gender = X_test.drop(columns=['gender'])"
   ]
  },
  {
   "cell_type": "code",
   "execution_count": 17,
   "metadata": {},
   "outputs": [
    {
     "name": "stdout",
     "output_type": "stream",
     "text": [
      "----Precision : 0.72\n",
      "----Recall : 0.73\n",
      "----F1 : 0.73\n",
      "----Accurancy : 0.8\n",
      "----TPR : 0.73\n",
      "----TNR : 0.71\n",
      "----PPV : 0.72\n",
      "----NPV : 0.72\n",
      "----FPR : 0.29\n",
      "----FNR : 0.27\n",
      "----AUC : 0.79\n",
      "\n",
      "\n"
     ]
    }
   ],
   "source": [
    "result_gender = model_results(model,X_train_gender, X_test_gender, y_train, y_test)"
   ]
  },
  {
   "cell_type": "code",
   "execution_count": 18,
   "metadata": {},
   "outputs": [],
   "source": [
    "y_predict_gender = result_gender[0].predict(X_test_gender)"
   ]
  },
  {
   "cell_type": "code",
   "execution_count": 19,
   "metadata": {},
   "outputs": [
    {
     "data": {
      "text/html": [
       "<div>\n",
       "<style scoped>\n",
       "    .dataframe tbody tr th:only-of-type {\n",
       "        vertical-align: middle;\n",
       "    }\n",
       "\n",
       "    .dataframe tbody tr th {\n",
       "        vertical-align: top;\n",
       "    }\n",
       "\n",
       "    .dataframe thead th {\n",
       "        text-align: right;\n",
       "    }\n",
       "</style>\n",
       "<table border=\"1\" class=\"dataframe\">\n",
       "  <thead>\n",
       "    <tr style=\"text-align: right;\">\n",
       "      <th></th>\n",
       "      <th>Gender</th>\n",
       "      <th>FNR</th>\n",
       "      <th>TPR</th>\n",
       "      <th>FPR</th>\n",
       "      <th>TNR</th>\n",
       "    </tr>\n",
       "  </thead>\n",
       "  <tbody>\n",
       "    <tr>\n",
       "      <th>0</th>\n",
       "      <td>Male</td>\n",
       "      <td>0.315007</td>\n",
       "      <td>0.684993</td>\n",
       "      <td>0.270134</td>\n",
       "      <td>0.729866</td>\n",
       "    </tr>\n",
       "    <tr>\n",
       "      <th>1</th>\n",
       "      <td>Female</td>\n",
       "      <td>0.208754</td>\n",
       "      <td>0.791246</td>\n",
       "      <td>0.313409</td>\n",
       "      <td>0.686591</td>\n",
       "    </tr>\n",
       "  </tbody>\n",
       "</table>\n",
       "</div>"
      ],
      "text/plain": [
       "   Gender       FNR       TPR       FPR       TNR\n",
       "0    Male  0.315007  0.684993  0.270134  0.729866\n",
       "1  Female  0.208754  0.791246  0.313409  0.686591"
      ]
     },
     "execution_count": 19,
     "metadata": {},
     "output_type": "execute_result"
    }
   ],
   "source": [
    "tmp_test['y_predict'] = y_predict_gender\n",
    "without_gender = calculate_metrics(tmp_test, 'gender_map')\n",
    "without_gender = without_gender.rename(columns={'Gender_map':'Gender'})\n",
    "without_gender"
   ]
  },
  {
   "cell_type": "markdown",
   "metadata": {},
   "source": [
    "## Gender and Race Bias"
   ]
  },
  {
   "cell_type": "code",
   "execution_count": 20,
   "metadata": {},
   "outputs": [],
   "source": [
    "tmp_test['y_predict'] = y_predict"
   ]
  },
  {
   "cell_type": "code",
   "execution_count": 21,
   "metadata": {},
   "outputs": [],
   "source": [
    "X_train_race_gender = X_train.drop(columns=['gender', 'race_mexican_american', 'race_other_hispanic', 'race_white','race_black', 'race_multi_racial', 'race_asian'])\n",
    "X_test_race_gender = X_test.drop(columns=['gender', 'race_mexican_american', 'race_other_hispanic', 'race_white','race_black', 'race_multi_racial', 'race_asian'])"
   ]
  },
  {
   "cell_type": "code",
   "execution_count": 22,
   "metadata": {},
   "outputs": [
    {
     "name": "stdout",
     "output_type": "stream",
     "text": [
      "----Precision : 0.72\n",
      "----Recall : 0.73\n",
      "----F1 : 0.73\n",
      "----Accurancy : 0.79\n",
      "----TPR : 0.73\n",
      "----TNR : 0.71\n",
      "----PPV : 0.72\n",
      "----NPV : 0.72\n",
      "----FPR : 0.29\n",
      "----FNR : 0.27\n",
      "----AUC : 0.78\n",
      "\n",
      "\n"
     ]
    }
   ],
   "source": [
    "result_race_gender = model_results(model,X_train_race_gender, X_test_race_gender, y_train, y_test)"
   ]
  },
  {
   "cell_type": "code",
   "execution_count": 23,
   "metadata": {},
   "outputs": [],
   "source": [
    "y_predict_race_gender = result_race_gender[0].predict(X_test_race_gender)"
   ]
  },
  {
   "cell_type": "code",
   "execution_count": 24,
   "metadata": {},
   "outputs": [
    {
     "data": {
      "text/html": [
       "<div>\n",
       "<style scoped>\n",
       "    .dataframe tbody tr th:only-of-type {\n",
       "        vertical-align: middle;\n",
       "    }\n",
       "\n",
       "    .dataframe tbody tr th {\n",
       "        vertical-align: top;\n",
       "    }\n",
       "\n",
       "    .dataframe thead th {\n",
       "        text-align: right;\n",
       "    }\n",
       "</style>\n",
       "<table border=\"1\" class=\"dataframe\">\n",
       "  <thead>\n",
       "    <tr style=\"text-align: right;\">\n",
       "      <th></th>\n",
       "      <th>Gender</th>\n",
       "      <th>FNR</th>\n",
       "      <th>TPR</th>\n",
       "      <th>FPR</th>\n",
       "      <th>TNR</th>\n",
       "    </tr>\n",
       "  </thead>\n",
       "  <tbody>\n",
       "    <tr>\n",
       "      <th>0</th>\n",
       "      <td>Male</td>\n",
       "      <td>0.316493</td>\n",
       "      <td>0.683507</td>\n",
       "      <td>0.268456</td>\n",
       "      <td>0.731544</td>\n",
       "    </tr>\n",
       "    <tr>\n",
       "      <th>1</th>\n",
       "      <td>Female</td>\n",
       "      <td>0.212121</td>\n",
       "      <td>0.787879</td>\n",
       "      <td>0.315024</td>\n",
       "      <td>0.684976</td>\n",
       "    </tr>\n",
       "  </tbody>\n",
       "</table>\n",
       "</div>"
      ],
      "text/plain": [
       "   Gender       FNR       TPR       FPR       TNR\n",
       "0    Male  0.316493  0.683507  0.268456  0.731544\n",
       "1  Female  0.212121  0.787879  0.315024  0.684976"
      ]
     },
     "execution_count": 24,
     "metadata": {},
     "output_type": "execute_result"
    }
   ],
   "source": [
    "tmp_test['y_predict'] = y_predict_race_gender\n",
    "without_gender_race = calculate_metrics(tmp_test, 'gender_map')\n",
    "without_gender_race = without_gender_race.rename(columns={'Gender_map':'Gender'})\n",
    "without_gender_race"
   ]
  },
  {
   "cell_type": "code",
   "execution_count": 25,
   "metadata": {},
   "outputs": [
    {
     "data": {
      "text/html": [
       "<div>\n",
       "<style scoped>\n",
       "    .dataframe tbody tr th:only-of-type {\n",
       "        vertical-align: middle;\n",
       "    }\n",
       "\n",
       "    .dataframe tbody tr th {\n",
       "        vertical-align: top;\n",
       "    }\n",
       "\n",
       "    .dataframe thead th {\n",
       "        text-align: right;\n",
       "    }\n",
       "</style>\n",
       "<table border=\"1\" class=\"dataframe\">\n",
       "  <thead>\n",
       "    <tr style=\"text-align: right;\">\n",
       "      <th></th>\n",
       "      <th>Race</th>\n",
       "      <th>FNR</th>\n",
       "      <th>TPR</th>\n",
       "      <th>FPR</th>\n",
       "      <th>TNR</th>\n",
       "    </tr>\n",
       "  </thead>\n",
       "  <tbody>\n",
       "    <tr>\n",
       "      <th>0</th>\n",
       "      <td>White</td>\n",
       "      <td>0.282979</td>\n",
       "      <td>0.717021</td>\n",
       "      <td>0.305499</td>\n",
       "      <td>0.694501</td>\n",
       "    </tr>\n",
       "    <tr>\n",
       "      <th>1</th>\n",
       "      <td>Mexican American</td>\n",
       "      <td>0.280193</td>\n",
       "      <td>0.719807</td>\n",
       "      <td>0.306931</td>\n",
       "      <td>0.693069</td>\n",
       "    </tr>\n",
       "    <tr>\n",
       "      <th>2</th>\n",
       "      <td>Asian</td>\n",
       "      <td>0.437500</td>\n",
       "      <td>0.562500</td>\n",
       "      <td>0.214286</td>\n",
       "      <td>0.785714</td>\n",
       "    </tr>\n",
       "    <tr>\n",
       "      <th>3</th>\n",
       "      <td>Other Hispanic</td>\n",
       "      <td>0.248175</td>\n",
       "      <td>0.751825</td>\n",
       "      <td>0.313333</td>\n",
       "      <td>0.686667</td>\n",
       "    </tr>\n",
       "    <tr>\n",
       "      <th>4</th>\n",
       "      <td>Multi Racial</td>\n",
       "      <td>0.303571</td>\n",
       "      <td>0.696429</td>\n",
       "      <td>0.208333</td>\n",
       "      <td>0.791667</td>\n",
       "    </tr>\n",
       "    <tr>\n",
       "      <th>5</th>\n",
       "      <td>Black</td>\n",
       "      <td>0.195584</td>\n",
       "      <td>0.804416</td>\n",
       "      <td>0.297980</td>\n",
       "      <td>0.702020</td>\n",
       "    </tr>\n",
       "  </tbody>\n",
       "</table>\n",
       "</div>"
      ],
      "text/plain": [
       "               Race       FNR       TPR       FPR       TNR\n",
       "0             White  0.282979  0.717021  0.305499  0.694501\n",
       "1  Mexican American  0.280193  0.719807  0.306931  0.693069\n",
       "2             Asian  0.437500  0.562500  0.214286  0.785714\n",
       "3    Other Hispanic  0.248175  0.751825  0.313333  0.686667\n",
       "4      Multi Racial  0.303571  0.696429  0.208333  0.791667\n",
       "5             Black  0.195584  0.804416  0.297980  0.702020"
      ]
     },
     "execution_count": 25,
     "metadata": {},
     "output_type": "execute_result"
    }
   ],
   "source": [
    "without_race_gender = calculate_metrics(tmp_test, 'race')\n",
    "without_race_gender"
   ]
  },
  {
   "cell_type": "markdown",
   "metadata": {},
   "source": [
    "## Sumary"
   ]
  },
  {
   "cell_type": "code",
   "execution_count": 26,
   "metadata": {},
   "outputs": [],
   "source": [
    "race = pd.DataFrame(columns=['metric', 'race', 'type', 'value'])\n",
    "result = list()\n",
    "\n",
    "for index in with_race.index:\n",
    "    data = {}\n",
    "    for column in with_race.columns:\n",
    "        if not column == 'Race':\n",
    "            data['race'] = with_race['Race'][index]\n",
    "            data['metric'] = column\n",
    "            data['value'] = with_race[column][index]\n",
    "            data['type'] = 'With Race'\n",
    "            result.append(data)\n",
    "            data = {}\n",
    "\n",
    "for index in without_race.index:\n",
    "    data = {}\n",
    "    for column in without_race.columns:\n",
    "        if not column == 'Race':\n",
    "            data['race'] = without_race['Race'][index]\n",
    "            data['metric'] = column\n",
    "            data['value'] = without_race[column][index]\n",
    "            data['type'] = 'Without Race'\n",
    "            result.append(data)\n",
    "            data = {}\n",
    "            \n",
    "for index in without_race_gender.index:\n",
    "    data = {}\n",
    "    for column in without_race_gender.columns:\n",
    "        if not column == 'Race':\n",
    "            data['race'] = without_race_gender['Race'][index]\n",
    "            data['metric'] = column\n",
    "            data['value'] = without_race_gender[column][index]\n",
    "            data['type'] = 'Without Race & Gender'\n",
    "            result.append(data)\n",
    "            data = {}\n",
    "            \n",
    "            \n",
    "race = race.append(result, ignore_index = True)\n",
    "race = race[race['metric']=='FNR']"
   ]
  },
  {
   "cell_type": "code",
   "execution_count": 27,
   "metadata": {},
   "outputs": [
    {
     "data": {
      "text/plain": [
       "Text(0, 0.5, 'False Negative Rate')"
      ]
     },
     "execution_count": 27,
     "metadata": {},
     "output_type": "execute_result"
    },
    {
     "data": {
      "image/png": "[encoded data removed]",
      "text/plain": [
       "<Figure size 1080x504 with 1 Axes>"
      ]
     },
     "metadata": {},
     "output_type": "display_data"
    }
   ],
   "source": [
    "sns.set(color_codes=False)\n",
    "plt.figure(figsize=(15,7))\n",
    "ax = sns.barplot(data=race, x='type', y='value',  palette='Set2', hue='race')\n",
    "ax.set_facecolor('#eaeaf2')\n",
    "ax.legend(title=\"Race\", loc='upper left',bbox_to_anchor = (1,1))\n",
    "ax.tick_params(axis='x', rotation=0)\n",
    "ax.set_xlabel(\"\")\n",
    "ax.set_ylabel(\"False Negative Rate\")"
   ]
  },
  {
   "cell_type": "code",
   "execution_count": 28,
   "metadata": {},
   "outputs": [],
   "source": [
    "gender = pd.DataFrame(columns=['metric', 'gender', 'type', 'value'])\n",
    "result = list()\n",
    "\n",
    "for index in with_gender.index:\n",
    "    data = {}\n",
    "    for column in with_gender.columns:\n",
    "        if not column == 'Gender':\n",
    "            data['gender'] = with_gender['Gender'][index]\n",
    "            data['metric'] = column\n",
    "            data['value'] = with_gender[column][index]\n",
    "            data['type'] = 'With Gender'\n",
    "            result.append(data)\n",
    "            data = {}\n",
    "\n",
    "for index in without_gender.index:\n",
    "    data = {}\n",
    "    for column in without_gender.columns:\n",
    "        if not column == 'Gender':\n",
    "            data['gender'] = without_gender['Gender'][index]\n",
    "            data['metric'] = column\n",
    "            data['value'] = without_gender[column][index]\n",
    "            data['type'] = 'Without Gender'\n",
    "            result.append(data)\n",
    "            data = {}\n",
    "            \n",
    "for index in without_gender_race.index:\n",
    "    data = {}\n",
    "    for column in without_gender_race.columns:\n",
    "        if not column == 'Gender':\n",
    "            data['gender'] = without_gender_race['Gender'][index]\n",
    "            data['metric'] = column\n",
    "            data['value'] = without_gender_race[column][index]\n",
    "            data['type'] = 'Without Race & Gender'\n",
    "            result.append(data)\n",
    "            data = {}\n",
    "            \n",
    "            \n",
    "gender = gender.append(result, ignore_index = True)\n",
    "gender = gender[gender['metric']=='FNR']"
   ]
  },
  {
   "cell_type": "code",
   "execution_count": 29,
   "metadata": {},
   "outputs": [
    {
     "data": {
      "text/plain": [
       "Text(0, 0.5, 'False Negative Rate')"
      ]
     },
     "execution_count": 29,
     "metadata": {},
     "output_type": "execute_result"
    },
    {
     "data": {
      "image/png": "[encoded data removed]",
      "text/plain": [
       "<Figure size 1080x504 with 1 Axes>"
      ]
     },
     "metadata": {},
     "output_type": "display_data"
    }
   ],
   "source": [
    "sns.set(color_codes=False)\n",
    "plt.figure(figsize=(15,7))\n",
    "ax = sns.barplot(data=gender, x='type', y='value',  palette='Set2', hue='gender')\n",
    "ax.set_facecolor('#eaeaf2')\n",
    "ax.legend(title=\"Gender\", loc='upper left',bbox_to_anchor = (1,1))\n",
    "ax.tick_params(axis='x', rotation=0)\n",
    "ax.set_xlabel(\"\")\n",
    "ax.set_ylabel(\"False Negative Rate\")"
   ]
  }
 ],
 "metadata": {
  "kernelspec": {
   "display_name": "Python 3",
   "language": "python",
   "name": "python3"
  },
  "language_info": {
   "codemirror_mode": {
    "name": "ipython",
    "version": 3
   },
   "file_extension": ".py",
   "mimetype": "text/x-python",
   "name": "python",
   "nbconvert_exporter": "python",
   "pygments_lexer": "ipython3",
   "version": "3.7.3"
  }
 },
 "nbformat": 4,
 "nbformat_minor": 2
}
