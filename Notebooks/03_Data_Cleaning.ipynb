{
 "cells": [
  {
   "cell_type": "markdown",
   "metadata": {},
   "source": [
    "# Data Cleaning\n",
    "\n",
    "This part will be doing some data cleaning."
   ]
  },
  {
   "cell_type": "code",
   "execution_count": 1,
   "metadata": {},
   "outputs": [],
   "source": [
    "#pip install ipynb"
   ]
  },
  {
   "cell_type": "code",
   "execution_count": 2,
   "metadata": {},
   "outputs": [],
   "source": [
    "#pip install joblib"
   ]
  },
  {
   "cell_type": "code",
   "execution_count": 3,
   "metadata": {},
   "outputs": [],
   "source": [
    "#pip install mlxtend"
   ]
  },
  {
   "cell_type": "code",
   "execution_count": 4,
   "metadata": {},
   "outputs": [],
   "source": [
    "%matplotlib inline\n",
    "import pandas as pd\n",
    "import numpy as np\n",
    "import matplotlib.pyplot as plt\n",
    "import seaborn as sns\n",
    "import pickle\n",
    "import joblib # If you get error change container or open terminal and run the below comment\n",
    "from mlxtend.feature_selection import SequentialFeatureSelector\n",
    "from sklearn.feature_selection import SelectKBest\n",
    "from sklearn.ensemble import RandomForestClassifier\n",
    "from sklearn.metrics import accuracy_score, confusion_matrix, classification_report\n",
    "from sklearn.model_selection import train_test_split\n",
    "from sklearn.dummy import DummyClassifier"
   ]
  },
  {
   "cell_type": "code",
   "execution_count": 5,
   "metadata": {},
   "outputs": [],
   "source": [
    "raw = pd.read_csv('/dsa/groups/capstonesp2022/on-campus/group_1/data/combined_dataset.csv')"
   ]
  },
  {
   "cell_type": "code",
   "execution_count": 6,
   "metadata": {},
   "outputs": [],
   "source": [
    "df=raw.iloc[:,1:] # Removing first column ['Unnamed: 0']"
   ]
  },
  {
   "cell_type": "markdown",
   "metadata": {},
   "source": [
    "### Target HBP\n",
    "\n",
    "Creating target column to identify high blood pressure."
   ]
  },
  {
   "cell_type": "code",
   "execution_count": 7,
   "metadata": {},
   "outputs": [],
   "source": [
    "# get the mean of sy(systolic blood pressure) and di ( diastolic blood pressure) from three measurements\n",
    "df['BPX_SY'] = (df['bpxsy1_systolic__blood_pres_1st_rdg_mm_hg']+df['bpxsy2_systolic__blood_pres_2nd_rdg_mm_hg']+df['bpxsy3_systolic__blood_pres_3rd_rdg_mm_hg'])/3\n",
    "df['BPX_DI'] = (df['bpxdi1_diastolic__blood_pres_1st_rdg_mm_hg']+df['bpxdi2_diastolic__blood_pres_2nd_rdg_mm_hg']+df['bpxdi3_diastolic__blood_pres_3rd_rdg_mm_hg'])/3"
   ]
  },
  {
   "cell_type": "markdown",
   "metadata": {},
   "source": [
    "From our research, we learned that if a person's systolic blood pressure is greater or equal to 130, we can say that they have high blood pressure. Also, if a person's diastolic blood pressure is greater or equal to 80, we can say that they have high blood pressure."
   ]
  },
  {
   "cell_type": "code",
   "execution_count": 8,
   "metadata": {},
   "outputs": [],
   "source": [
    "df['BPX']=np.where(((df['BPX_SY'] >=130) | (df['BPX_DI'] >=80)) & (df['BPX_SY'] > df['BPX_DI']),1,0)"
   ]
  },
  {
   "cell_type": "markdown",
   "metadata": {},
   "source": [
    "Using five different columns we will create our final target column."
   ]
  },
  {
   "cell_type": "code",
   "execution_count": 9,
   "metadata": {},
   "outputs": [],
   "source": [
    "# combine three condition data\n",
    "df['HBP'] = np.where((df['BPX'] ==1) | \n",
    "                     (df['diq175h_high_blood_pressure'] == 17) | \n",
    "                     (df['bpq050a_now_taking_prescribed_medicine_for_hbp'] ==1) |\n",
    "                     (df['bpq020_ever_told_you_had_high_blood_pressure'] ==1) |\n",
    "                     (df['bpq030_told_had_high_blood_pressure'] ==1) ,1,0)"
   ]
  },
  {
   "cell_type": "code",
   "execution_count": 10,
   "metadata": {},
   "outputs": [
    {
     "data": {
      "text/plain": [
       "0    32805\n",
       "1    14847\n",
       "Name: HBP, dtype: int64"
      ]
     },
     "execution_count": 10,
     "metadata": {},
     "output_type": "execute_result"
    }
   ],
   "source": [
    "df['HBP'].value_counts()"
   ]
  },
  {
   "cell_type": "code",
   "execution_count": 11,
   "metadata": {},
   "outputs": [
    {
     "data": {
      "text/plain": [
       "(47652, 53)"
      ]
     },
     "execution_count": 11,
     "metadata": {},
     "output_type": "execute_result"
    }
   ],
   "source": [
    "df.shape"
   ]
  },
  {
   "cell_type": "markdown",
   "metadata": {},
   "source": [
    "# Data cleaning"
   ]
  },
  {
   "cell_type": "markdown",
   "metadata": {},
   "source": [
    "We remove people who are under 20 years old because most of the information that we are looking at is empty. For adults, 80 years and older was determined to be a disclosure risk so CDC maps people who are older than 80 to 80. For example, if the patient is 85 years old, in the dataset this person's age will be 80. That is why we want to exclude people who are 80 or older. In the end, our population age distribution will be between 20 and 79."
   ]
  },
  {
   "cell_type": "code",
   "execution_count": 12,
   "metadata": {},
   "outputs": [
    {
     "data": {
      "text/plain": [
       "(25926, 53)"
      ]
     },
     "execution_count": 12,
     "metadata": {},
     "output_type": "execute_result"
    }
   ],
   "source": [
    "df = df[(df['ridageyr_age_in_years_at_screening']>=20)]\n",
    "df = df[(df['ridageyr_age_in_years_at_screening']<80)]\n",
    "df.shape"
   ]
  },
  {
   "cell_type": "code",
   "execution_count": 13,
   "metadata": {},
   "outputs": [
    {
     "data": {
      "text/plain": [
       "1    13027\n",
       "0    12899\n",
       "Name: HBP, dtype: int64"
      ]
     },
     "execution_count": 13,
     "metadata": {},
     "output_type": "execute_result"
    }
   ],
   "source": [
    "df['HBP'].value_counts()"
   ]
  },
  {
   "cell_type": "markdown",
   "metadata": {},
   "source": [
    "In our case study, we were using only data from 2017-2018 and we when pull the previous years' data, we saw that some survey questions are changed. For example, in the alcohol dataset between 2017 and 2018, our alcohol-related column values are mapped to specific categories such as \"Every day\", \"Nearly every day\" etc. However, when we look at the previous years, they gave an estimated number for one column and another column for the unit. The first column shows how many times they drink alcohol, and the second column shows the unit (per week, per month, and per year) of the column. To create a single logic, we need to convert previous years' data to the current format."
   ]
  },
  {
   "cell_type": "code",
   "execution_count": 14,
   "metadata": {},
   "outputs": [],
   "source": [
    "df['flag'] = 999"
   ]
  },
  {
   "cell_type": "code",
   "execution_count": 15,
   "metadata": {},
   "outputs": [],
   "source": [
    "# Every day\n",
    "df.loc[(df['alq141u_days_drink_alcohol_per_wk_mo_yr'] == 1) & # per week \\ \n",
    "       (df['alq142_number_days_have_4_or_5_drinkspast_12_mos'].notnull()) & \\\n",
    "       (df['flag'] == 999 ) & \\\n",
    "       (df['alq142_number_days_have_4_or_5_drinkspast_12_mos'] == 7 )\n",
    "       ,'flag'] = 1 \n",
    "\n",
    "df.loc[(df['alq141u_days_drink_alcohol_per_wk_mo_yr'] == 2) & # per month \\ \n",
    "       (df['alq142_number_days_have_4_or_5_drinkspast_12_mos'].notnull()) & \\\n",
    "       (df['flag'] == 999 ) & \\\n",
    "       (df['alq142_number_days_have_4_or_5_drinkspast_12_mos'] == 30)\n",
    "       ,'flag'] = 1 \n",
    "\n",
    "df.loc[(df['alq141u_days_drink_alcohol_per_wk_mo_yr'] == 3) & # per year \\ \n",
    "       (df['alq142_number_days_have_4_or_5_drinkspast_12_mos'].notnull()) & \\\n",
    "       (df['flag'] == 999 ) & \\\n",
    "       (df['alq142_number_days_have_4_or_5_drinkspast_12_mos'] == 365 )\n",
    "       ,'flag'] = 1"
   ]
  },
  {
   "cell_type": "code",
   "execution_count": 16,
   "metadata": {},
   "outputs": [],
   "source": [
    "# Nearly every day\n",
    "df.loc[(df['alq141u_days_drink_alcohol_per_wk_mo_yr'] == 1) & # per week \\ \n",
    "       (df['alq142_number_days_have_4_or_5_drinkspast_12_mos'].notnull()) & \\\n",
    "       (df['alq142_number_days_have_4_or_5_drinkspast_12_mos'] < 7 ) & \\\n",
    "       (df['flag'] == 999 ) & \\\n",
    "       (df['alq142_number_days_have_4_or_5_drinkspast_12_mos'] >= 5 )\n",
    "       ,'flag'] = 2 \n",
    "\n",
    "df.loc[(df['alq141u_days_drink_alcohol_per_wk_mo_yr'] == 2) & # per month \\ \n",
    "       (df['alq142_number_days_have_4_or_5_drinkspast_12_mos'].notnull()) & \\\n",
    "       (df['alq142_number_days_have_4_or_5_drinkspast_12_mos'] < 30 ) & \\\n",
    "       (df['flag'] == 999 ) & \\\n",
    "       (df['alq142_number_days_have_4_or_5_drinkspast_12_mos'] >= 17)\n",
    "       ,'flag'] = 2 \n",
    "\n",
    "df.loc[(df['alq141u_days_drink_alcohol_per_wk_mo_yr'] == 3) & # per year \\ \n",
    "       (df['alq142_number_days_have_4_or_5_drinkspast_12_mos'].notnull()) & \\\n",
    "       (df['alq142_number_days_have_4_or_5_drinkspast_12_mos'] < 365 ) & \\\n",
    "       (df['flag'] == 999 ) & \\\n",
    "       (df['alq142_number_days_have_4_or_5_drinkspast_12_mos'] >= 209) \\\n",
    "       ,'flag'] = 2"
   ]
  },
  {
   "cell_type": "code",
   "execution_count": 17,
   "metadata": {},
   "outputs": [],
   "source": [
    "# 3 to 4 times a week\n",
    "df.loc[(df['alq141u_days_drink_alcohol_per_wk_mo_yr'] == 1) & # per week \\ \n",
    "       (df['alq142_number_days_have_4_or_5_drinkspast_12_mos'].notnull()) & \\\n",
    "       (df['alq142_number_days_have_4_or_5_drinkspast_12_mos'] < 5 ) & \\\n",
    "       (df['flag'] == 999 ) & \\\n",
    "       (df['alq142_number_days_have_4_or_5_drinkspast_12_mos'] >= 3 )\n",
    "       ,'flag'] = 3"
   ]
  },
  {
   "cell_type": "code",
   "execution_count": 18,
   "metadata": {},
   "outputs": [],
   "source": [
    "# 2 times a week\n",
    "df.loc[(df['alq141u_days_drink_alcohol_per_wk_mo_yr'] == 1) & # per week \\ \n",
    "       (df['alq142_number_days_have_4_or_5_drinkspast_12_mos'].notnull()) & \\\n",
    "       (df['flag'] == 999 ) & \\\n",
    "       (df['alq142_number_days_have_4_or_5_drinkspast_12_mos'] == 2 )\n",
    "       ,'flag'] = 4"
   ]
  },
  {
   "cell_type": "code",
   "execution_count": 19,
   "metadata": {},
   "outputs": [],
   "source": [
    "# Once a week\n",
    "df.loc[(df['alq141u_days_drink_alcohol_per_wk_mo_yr'] == 1) &  # per week \\\n",
    "       (df['alq142_number_days_have_4_or_5_drinkspast_12_mos'].notnull()) & \\\n",
    "       (df['flag'] == 999 ) & \\\n",
    "       (df['alq142_number_days_have_4_or_5_drinkspast_12_mos'] == 1 )\n",
    "       ,'flag'] = 5"
   ]
  },
  {
   "cell_type": "code",
   "execution_count": 20,
   "metadata": {},
   "outputs": [],
   "source": [
    "# Once a month\n",
    "df.loc[(df['alq141u_days_drink_alcohol_per_wk_mo_yr'] == 2) & # per month \\ \n",
    "       (df['alq142_number_days_have_4_or_5_drinkspast_12_mos'].notnull()) & \\\n",
    "       (df['flag'] == 999 ) & \\\n",
    "       (df['alq142_number_days_have_4_or_5_drinkspast_12_mos'] == 1 )\n",
    "       ,'flag'] = 7 \n",
    "\n",
    "\n",
    "df.loc[(df['alq141u_days_drink_alcohol_per_wk_mo_yr'] == 3) & # per year \\ \n",
    "       (df['alq142_number_days_have_4_or_5_drinkspast_12_mos'].notnull()) & \\\n",
    "       (df['flag'] == 999 ) & \\\n",
    "       (df['alq142_number_days_have_4_or_5_drinkspast_12_mos'] == 12 )\n",
    "       ,'flag'] = 7"
   ]
  },
  {
   "cell_type": "code",
   "execution_count": 21,
   "metadata": {},
   "outputs": [],
   "source": [
    "# 2 to 3 times a month\n",
    "df.loc[(df['alq141u_days_drink_alcohol_per_wk_mo_yr'] == 2) &  # per month \\ \n",
    "       (df['alq142_number_days_have_4_or_5_drinkspast_12_mos'].notnull()) & \\\n",
    "       (df['alq142_number_days_have_4_or_5_drinkspast_12_mos'] > 1) & \\\n",
    "       (df['flag'] == 999 ) & \\\n",
    "       (df['alq142_number_days_have_4_or_5_drinkspast_12_mos'] <= 3 )\n",
    "       ,'flag'] = 6"
   ]
  },
  {
   "cell_type": "code",
   "execution_count": 22,
   "metadata": {},
   "outputs": [],
   "source": [
    "# 1 to 2 times in the last year\n",
    "df.loc[(df['alq141u_days_drink_alcohol_per_wk_mo_yr'] == 3) & # per year \\ \n",
    "       (df['alq142_number_days_have_4_or_5_drinkspast_12_mos'].notnull()) & \\\n",
    "       (df['flag'] == 999 ) & \\\n",
    "       (df['alq142_number_days_have_4_or_5_drinkspast_12_mos'] <= 2 )\n",
    "       ,'flag'] = 10"
   ]
  },
  {
   "cell_type": "code",
   "execution_count": 23,
   "metadata": {},
   "outputs": [],
   "source": [
    "# 3 to 6 times in the last year\n",
    "df.loc[(df['alq141u_days_drink_alcohol_per_wk_mo_yr'] == 3) & # per year \\ \n",
    "       (df['alq142_number_days_have_4_or_5_drinkspast_12_mos'].notnull()) & \\\n",
    "       (df['alq142_number_days_have_4_or_5_drinkspast_12_mos'] > 2 ) & \\\n",
    "       (df['flag'] == 999 ) & \\\n",
    "       (df['alq142_number_days_have_4_or_5_drinkspast_12_mos'] <= 6 )\n",
    "       ,'flag'] = 9 "
   ]
  },
  {
   "cell_type": "code",
   "execution_count": 24,
   "metadata": {},
   "outputs": [],
   "source": [
    "# 7 to 11 times in the last year\n",
    "df.loc[(df['alq141u_days_drink_alcohol_per_wk_mo_yr'] == 3) & # per year \\ \n",
    "       (df['alq142_number_days_have_4_or_5_drinkspast_12_mos'].notnull()) & \\\n",
    "       (df['alq142_number_days_have_4_or_5_drinkspast_12_mos'] > 6 ) & \\\n",
    "       (df['flag'] == 999 ) & \\\n",
    "       (df['alq142_number_days_have_4_or_5_drinkspast_12_mos'] <= 11 )\n",
    "       ,'flag'] = 8 "
   ]
  },
  {
   "cell_type": "code",
   "execution_count": 25,
   "metadata": {},
   "outputs": [],
   "source": [
    "#per year logic\n",
    "df.loc[(df['alq141u_days_drink_alcohol_per_wk_mo_yr'] == 3) & # per year \\ \n",
    "       (df['alq142_number_days_have_4_or_5_drinkspast_12_mos'].notnull()) & \\\n",
    "       (df['alq142_number_days_have_4_or_5_drinkspast_12_mos'] >= 156) & \\\n",
    "       (df['flag'] == 999 ) & \\\n",
    "       (df['alq142_number_days_have_4_or_5_drinkspast_12_mos'] < 209 )\n",
    "       ,'flag'] = 3\n",
    "\n",
    "df.loc[(df['alq141u_days_drink_alcohol_per_wk_mo_yr'] == 3) & # per year \\ \n",
    "       (df['alq142_number_days_have_4_or_5_drinkspast_12_mos'].notnull()) & \\\n",
    "       (df['alq142_number_days_have_4_or_5_drinkspast_12_mos'] >= 104) & \\\n",
    "       (df['flag'] == 999 ) & \\\n",
    "       (df['alq142_number_days_have_4_or_5_drinkspast_12_mos'] < 156 )\n",
    "       ,'flag'] = 4\n",
    "\n",
    "df.loc[(df['alq141u_days_drink_alcohol_per_wk_mo_yr'] == 3) & # per year \\ \n",
    "       (df['alq142_number_days_have_4_or_5_drinkspast_12_mos'].notnull()) & \\\n",
    "       (df['alq142_number_days_have_4_or_5_drinkspast_12_mos'] >= 52) & \\\n",
    "       (df['flag'] == 999 ) & \\\n",
    "       (df['alq142_number_days_have_4_or_5_drinkspast_12_mos'] < 104 )\n",
    "       ,'flag'] = 5\n",
    "\n",
    "df.loc[(df['alq141u_days_drink_alcohol_per_wk_mo_yr'] == 3) & # per year \\ \n",
    "       (df['alq142_number_days_have_4_or_5_drinkspast_12_mos'].notnull()) & \\\n",
    "       (df['alq142_number_days_have_4_or_5_drinkspast_12_mos'] >= 24) & \\\n",
    "       (df['flag'] == 999 ) & \\\n",
    "       (df['alq142_number_days_have_4_or_5_drinkspast_12_mos'] < 52 )\n",
    "       ,'flag'] = 6\n",
    "\n",
    "df.loc[(df['alq141u_days_drink_alcohol_per_wk_mo_yr'] == 3) & # per year \\ \n",
    "       (df['alq142_number_days_have_4_or_5_drinkspast_12_mos'].notnull()) & \\\n",
    "       (df['alq142_number_days_have_4_or_5_drinkspast_12_mos'] >= 12) & \\\n",
    "       (df['flag'] == 999 ) & \\\n",
    "       (df['alq142_number_days_have_4_or_5_drinkspast_12_mos'] < 24 )\n",
    "       ,'flag'] = 7"
   ]
  },
  {
   "cell_type": "code",
   "execution_count": 26,
   "metadata": {},
   "outputs": [],
   "source": [
    "#per year logic\n",
    "df.loc[(df['alq141u_days_drink_alcohol_per_wk_mo_yr'] == 2) & # per month \\ \n",
    "       (df['alq142_number_days_have_4_or_5_drinkspast_12_mos'].notnull()) & \\\n",
    "       ((df['alq142_number_days_have_4_or_5_drinkspast_12_mos']*12) >= 156) & \\\n",
    "       (df['flag'] == 999 ) & \\\n",
    "       ((df['alq142_number_days_have_4_or_5_drinkspast_12_mos']*12) < 209 )\n",
    "       ,'flag'] = 3\n",
    "\n",
    "df.loc[(df['alq141u_days_drink_alcohol_per_wk_mo_yr'] == 2) & # per month \\ \n",
    "       (df['alq142_number_days_have_4_or_5_drinkspast_12_mos'].notnull()) & \\\n",
    "       ((df['alq142_number_days_have_4_or_5_drinkspast_12_mos']*12) >= 104) & \\\n",
    "       (df['flag'] == 999 ) & \\\n",
    "       ((df['alq142_number_days_have_4_or_5_drinkspast_12_mos']*12) < 156 )\n",
    "       ,'flag'] = 4\n",
    "\n",
    "df.loc[(df['alq141u_days_drink_alcohol_per_wk_mo_yr'] == 2) & # per month \\ \n",
    "       (df['alq142_number_days_have_4_or_5_drinkspast_12_mos'].notnull()) & \\\n",
    "       ((df['alq142_number_days_have_4_or_5_drinkspast_12_mos']*12) >= 52) & \\\n",
    "       (df['flag'] == 999 ) & \\\n",
    "       ((df['alq142_number_days_have_4_or_5_drinkspast_12_mos']*12) < 104 )\n",
    "       ,'flag'] = 5\n",
    "\n",
    "df.loc[(df['alq141u_days_drink_alcohol_per_wk_mo_yr'] == 2) & # per month \\ \n",
    "       (df['alq142_number_days_have_4_or_5_drinkspast_12_mos'].notnull()) & \\\n",
    "       ((df['alq142_number_days_have_4_or_5_drinkspast_12_mos']*12) >= 24) & \\\n",
    "       (df['flag'] == 999 ) & \\\n",
    "       ((df['alq142_number_days_have_4_or_5_drinkspast_12_mos']*12) < 52 )\n",
    "       ,'flag'] = 6\n",
    "\n",
    "df.loc[(df['alq141u_days_drink_alcohol_per_wk_mo_yr'] == 2) & # per month \\ \n",
    "       (df['alq142_number_days_have_4_or_5_drinkspast_12_mos'].notnull()) & \\\n",
    "       ((df['alq142_number_days_have_4_or_5_drinkspast_12_mos']*12) >= 12) & \\\n",
    "       (df['flag'] == 999 ) & \\\n",
    "       ((df['alq142_number_days_have_4_or_5_drinkspast_12_mos']*12) < 24 )\n",
    "       ,'flag'] = 7"
   ]
  },
  {
   "cell_type": "code",
   "execution_count": 27,
   "metadata": {},
   "outputs": [],
   "source": [
    "filter_flag = (df.flag!=999)\n",
    "df.loc[filter_flag, 'alq142_number_days_have_4_or_5_drinkspast_12_mos'] = df['flag']"
   ]
  },
  {
   "cell_type": "markdown",
   "metadata": {},
   "source": [
    "Alcohol column imputation."
   ]
  },
  {
   "cell_type": "code",
   "execution_count": 28,
   "metadata": {},
   "outputs": [],
   "source": [
    "# People who don't drink at all\n",
    "df.loc[(df['alq111_ever_had_a_drink_of_any_kind_of_alcohol'] == 2) , 'alq142_number_days_have_4_or_5_drinkspast_12_mos'] = 11\n",
    "\n",
    "# People who don't drink 4\\5 \n",
    "df.loc[(df['alq142_number_days_have_4_or_5_drinkspast_12_mos'].isna()) & \n",
    "   (df['alq111_ever_had_a_drink_of_any_kind_of_alcohol'] == 1) & \n",
    "   (df['alq151_ever_have_4_5_or_more_drinks_every_day'] == 2) , 'alq142_number_days_have_4_or_5_drinkspast_12_mos'] = 99\n",
    "\n",
    "# Don't know\n",
    "df.loc[(df['alq142_number_days_have_4_or_5_drinkspast_12_mos'].isna()), 'alq142_number_days_have_4_or_5_drinkspast_12_mos'] = 99\n",
    "df.loc[(df['alq142_number_days_have_4_or_5_drinkspast_12_mos'] == 77), 'alq142_number_days_have_4_or_5_drinkspast_12_mos'] = 99\n",
    "df.loc[(df['alq142_number_days_have_4_or_5_drinkspast_12_mos'] == 777), 'alq142_number_days_have_4_or_5_drinkspast_12_mos'] = 99\n",
    "df.loc[(df['alq142_number_days_have_4_or_5_drinkspast_12_mos'] == 999), 'alq142_number_days_have_4_or_5_drinkspast_12_mos'] = 99\n",
    "df.loc[(df['alq142_number_days_have_4_or_5_drinkspast_12_mos'] == 11), 'alq142_number_days_have_4_or_5_drinkspast_12_mos'] = 0\n",
    "\n",
    "df.loc[(df['alq111_ever_had_a_drink_of_any_kind_of_alcohol'].isnull()) , 'alq111_ever_had_a_drink_of_any_kind_of_alcohol'] = 9\n",
    "\n",
    "# Making sure that we don't get any other invalid value\n",
    "df = df[(df['alq142_number_days_have_4_or_5_drinkspast_12_mos'] == 0) | \\\n",
    "        (df['alq142_number_days_have_4_or_5_drinkspast_12_mos'] == 1) | \\\n",
    "        (df['alq142_number_days_have_4_or_5_drinkspast_12_mos'] == 2) | \\\n",
    "        (df['alq142_number_days_have_4_or_5_drinkspast_12_mos'] == 3) | \\\n",
    "        (df['alq142_number_days_have_4_or_5_drinkspast_12_mos'] == 4) | \\\n",
    "        (df['alq142_number_days_have_4_or_5_drinkspast_12_mos'] == 5) | \\\n",
    "        (df['alq142_number_days_have_4_or_5_drinkspast_12_mos'] == 6) | \\\n",
    "        (df['alq142_number_days_have_4_or_5_drinkspast_12_mos'] == 7) | \\\n",
    "        (df['alq142_number_days_have_4_or_5_drinkspast_12_mos'] == 8) | \\\n",
    "        (df['alq142_number_days_have_4_or_5_drinkspast_12_mos'] == 9) | \\\n",
    "        (df['alq142_number_days_have_4_or_5_drinkspast_12_mos'] == 10) | \\\n",
    "        (df['alq142_number_days_have_4_or_5_drinkspast_12_mos'] == 99)]"
   ]
  },
  {
   "cell_type": "markdown",
   "metadata": {},
   "source": [
    "Creating salt usage column"
   ]
  },
  {
   "cell_type": "code",
   "execution_count": 29,
   "metadata": {},
   "outputs": [],
   "source": [
    "# 9 Means don't know \n",
    "df.loc[(df['dbd100_how_often_add_salt_to_food_at_table'] == 9) , 'dbd100_how_often_add_salt_to_food_at_table'] = 0\n",
    "df.loc[(df['drqsprep_salt_used_in_preparation'] == 9) , 'drqsprep_salt_used_in_preparation'] = 0\n",
    "df.loc[(df['dbd100_how_often_add_salt_to_food_at_table'].isnull()) , 'dbd100_how_often_add_salt_to_food_at_table'] = 0\n",
    "df.loc[(df['drqsprep_salt_used_in_preparation'].isnull()) , 'drqsprep_salt_used_in_preparation'] = 0\n",
    "\n",
    "df['salt_usage'] = None\n",
    "\n",
    "# Categorizing salt usage\n",
    "df.loc[(df['drqsprep_salt_used_in_preparation'] == 4)  & \n",
    "   (df['dbd100_how_often_add_salt_to_food_at_table'] == 3) , 'salt_usage'] = 1\n",
    "\n",
    "\n",
    "df.loc[(df['drqsprep_salt_used_in_preparation'] == 3)  & \n",
    "   (df['dbd100_how_often_add_salt_to_food_at_table'] == 3) , 'salt_usage'] = 1\n",
    "\n",
    "\n",
    "df.loc[(df['salt_usage'].isnull()) , 'salt_usage'] = 0"
   ]
  },
  {
   "cell_type": "markdown",
   "metadata": {},
   "source": [
    "Creating BMI column."
   ]
  },
  {
   "cell_type": "code",
   "execution_count": 30,
   "metadata": {},
   "outputs": [],
   "source": [
    "df['BMI'] = round(((df['whd020_current_self'] * 0.45359237) / ((df['whd010_current_self'] * 2.54)**2)) * 10000,1)\n",
    "df = df.drop(columns=[\n",
    "    'whd020_current_self','whd010_current_self'])"
   ]
  },
  {
   "cell_type": "markdown",
   "metadata": {},
   "source": [
    "Creating new column for Insulin."
   ]
  },
  {
   "cell_type": "code",
   "execution_count": 31,
   "metadata": {},
   "outputs": [],
   "source": [
    "df['insulin_usage'] = None\n",
    "df.loc[(df['diq060u_unit_of_measure_month_year']==1) &  # Months\n",
    "   (df['did060_how_long_taking_insulin'] < 3) , 'insulin_usage'] = '2 Month'\n",
    "\n",
    "df.loc[(df['diq060u_unit_of_measure_month_year']==1) &  # Months\n",
    "   (df['did060_how_long_taking_insulin'] >= 3) & \\\n",
    "   (df['did060_how_long_taking_insulin'] < 5)  , 'insulin_usage'] = '3-4 Months'\n",
    "\n",
    "df.loc[(df['diq060u_unit_of_measure_month_year']==1) &  # Months\n",
    "   (df['did060_how_long_taking_insulin'] >= 5), 'insulin_usage'] = '5-12 Months'\n",
    "\n",
    "df.loc[(df['diq060u_unit_of_measure_month_year']==2), 'insulin_usage'] = 'More than one year' \n",
    "\n",
    "df.loc[(df['diq060u_unit_of_measure_month_year'].isnull()), 'diq060u_unit_of_measure_month_year'] = 0\n",
    "df.loc[(df['did060_how_long_taking_insulin'].isnull()), 'did060_how_long_taking_insulin'] = 0\n",
    "df.loc[(df['insulin_usage'].isnull()), 'insulin_usage'] = 'None'"
   ]
  },
  {
   "cell_type": "markdown",
   "metadata": {},
   "source": [
    "In the race column, we have values 5 and 7 which are means Multi-Race. Since they have the same meaning we will use only one for the Multi-Race category."
   ]
  },
  {
   "cell_type": "code",
   "execution_count": 32,
   "metadata": {},
   "outputs": [],
   "source": [
    "df.loc[(df['ridreth3_racehispanic_origin_w_nh_asian'] == 7) , 'ridreth3_racehispanic_origin_w_nh_asian'] = 5"
   ]
  },
  {
   "cell_type": "markdown",
   "metadata": {},
   "source": [
    "### 1. Dropping columns according to unique values"
   ]
  },
  {
   "cell_type": "code",
   "execution_count": 33,
   "metadata": {},
   "outputs": [],
   "source": [
    "# Unique value cheking\n",
    "for column in df.columns:\n",
    "    if len(df[column].unique()) == 1:\n",
    "        print('Single value in the column : ', column)\n",
    "        print('\\tValues : ', df[column].unique())\n",
    "        df = df.drop(columns=[column])\n",
    "    #elif len(df[column].unique()) == 2 and df[column].isnull().values.any(): # Useless columns \n",
    "        #print('Useless column : ', column)\n",
    "        #print('\\tValues : ', df[column].unique())\n",
    "        #df = df.drop(columns=[column])"
   ]
  },
  {
   "cell_type": "markdown",
   "metadata": {},
   "source": [
    "### 2. Remove missing columns that have missing values >61%"
   ]
  },
  {
   "cell_type": "code",
   "execution_count": 34,
   "metadata": {},
   "outputs": [
    {
     "data": {
      "text/html": [
       "<div>\n",
       "<style scoped>\n",
       "    .dataframe tbody tr th:only-of-type {\n",
       "        vertical-align: middle;\n",
       "    }\n",
       "\n",
       "    .dataframe tbody tr th {\n",
       "        vertical-align: top;\n",
       "    }\n",
       "\n",
       "    .dataframe thead th {\n",
       "        text-align: right;\n",
       "    }\n",
       "</style>\n",
       "<table border=\"1\" class=\"dataframe\">\n",
       "  <thead>\n",
       "    <tr style=\"text-align: right;\">\n",
       "      <th></th>\n",
       "      <th>percentage</th>\n",
       "    </tr>\n",
       "  </thead>\n",
       "  <tbody>\n",
       "    <tr>\n",
       "      <th>bpq030_told_had_high_blood_pressure</th>\n",
       "      <td>66.037312</td>\n",
       "    </tr>\n",
       "    <tr>\n",
       "      <th>bpq050a_now_taking_prescribed_medicine_for_hbp</th>\n",
       "      <td>70.600135</td>\n",
       "    </tr>\n",
       "    <tr>\n",
       "      <th>bpxsy4_systolic__blood_pres_4th_rdg_mm_hg</th>\n",
       "      <td>94.071702</td>\n",
       "    </tr>\n",
       "    <tr>\n",
       "      <th>bpxdi4_diastolic__blood_pres_4th_rdg_mm_hg</th>\n",
       "      <td>94.071702</td>\n",
       "    </tr>\n",
       "    <tr>\n",
       "      <th>diq175h_high_blood_pressure</th>\n",
       "      <td>97.240953</td>\n",
       "    </tr>\n",
       "  </tbody>\n",
       "</table>\n",
       "</div>"
      ],
      "text/plain": [
       "                                                percentage\n",
       "bpq030_told_had_high_blood_pressure              66.037312\n",
       "bpq050a_now_taking_prescribed_medicine_for_hbp   70.600135\n",
       "bpxsy4_systolic__blood_pres_4th_rdg_mm_hg        94.071702\n",
       "bpxdi4_diastolic__blood_pres_4th_rdg_mm_hg       94.071702\n",
       "diq175h_high_blood_pressure                      97.240953"
      ]
     },
     "metadata": {},
     "output_type": "display_data"
    }
   ],
   "source": [
    "null=100*(df.isnull().sum())/(df.shape[0])\n",
    "df_null=pd.DataFrame({'percentage':null})\n",
    "df_high=df_null[df_null['percentage']>65]\n",
    "display(df_high.sort_values(by=['percentage']))"
   ]
  },
  {
   "cell_type": "code",
   "execution_count": 35,
   "metadata": {},
   "outputs": [],
   "source": [
    "drop_columns = list(df_high.index)\n",
    "df.drop(drop_columns, axis=1, inplace=True)"
   ]
  },
  {
   "cell_type": "code",
   "execution_count": 36,
   "metadata": {},
   "outputs": [
    {
     "data": {
      "text/plain": [
       "(17796, 50)"
      ]
     },
     "execution_count": 36,
     "metadata": {},
     "output_type": "execute_result"
    }
   ],
   "source": [
    "df.shape"
   ]
  },
  {
   "cell_type": "markdown",
   "metadata": {},
   "source": [
    "### 4. Checking data types"
   ]
  },
  {
   "cell_type": "code",
   "execution_count": 37,
   "metadata": {},
   "outputs": [
    {
     "name": "stdout",
     "output_type": "stream",
     "text": [
      "[dtype('float64') dtype('int64') dtype('O')]\n"
     ]
    }
   ],
   "source": [
    "# data type\n",
    "print(df.dtypes.unique()) # all are float64 "
   ]
  },
  {
   "cell_type": "code",
   "execution_count": 38,
   "metadata": {},
   "outputs": [
    {
     "name": "stderr",
     "output_type": "stream",
     "text": [
      "/opt/conda/lib/python3.7/site-packages/ipykernel_launcher.py:1: DeprecationWarning: `np.object` is a deprecated alias for the builtin `object`. To silence this warning, use `object` by itself. Doing this will not modify any behavior and is safe. \n",
      "Deprecated in NumPy 1.20; for more details and guidance: https://numpy.org/devdocs/release/1.20.0-notes.html#deprecations\n",
      "  \"\"\"Entry point for launching an IPython kernel.\n"
     ]
    },
    {
     "data": {
      "text/plain": [
       "salt_usage       object\n",
       "insulin_usage    object\n",
       "dtype: object"
      ]
     },
     "execution_count": 38,
     "metadata": {},
     "output_type": "execute_result"
    }
   ],
   "source": [
    "df.dtypes[df.dtypes == np.object]"
   ]
  },
  {
   "cell_type": "code",
   "execution_count": 39,
   "metadata": {},
   "outputs": [
    {
     "name": "stdout",
     "output_type": "stream",
     "text": [
      "Column name : salt_usage\n",
      "Unique values : [0 1]\n",
      "\n",
      "\n",
      "Column name : insulin_usage\n",
      "Unique values : ['None' 'More than one year' '2 Month' '3-4 Months' '5-12 Months']\n",
      "\n",
      "\n"
     ]
    },
    {
     "name": "stderr",
     "output_type": "stream",
     "text": [
      "/opt/conda/lib/python3.7/site-packages/ipykernel_launcher.py:2: DeprecationWarning: `np.object` is a deprecated alias for the builtin `object`. To silence this warning, use `object` by itself. Doing this will not modify any behavior and is safe. \n",
      "Deprecated in NumPy 1.20; for more details and guidance: https://numpy.org/devdocs/release/1.20.0-notes.html#deprecations\n",
      "  \n"
     ]
    }
   ],
   "source": [
    "## Columns with string values\n",
    "col_types = list(filter(lambda i: df[i].dtype==np.object , df.columns))\n",
    "\n",
    "for column in col_types:\n",
    "    print(\"Column name :\",str(column))\n",
    "    print(\"Unique values :\",str(df[column].unique()))\n",
    "    print('\\n')"
   ]
  },
  {
   "cell_type": "code",
   "execution_count": 40,
   "metadata": {},
   "outputs": [],
   "source": [
    "df = df.drop(columns=['bpxsy1_systolic__blood_pres_1st_rdg_mm_hg'\n",
    "                      ,'bpxdi1_diastolic__blood_pres_1st_rdg_mm_hg'\n",
    "                      ,'bpxsy2_systolic__blood_pres_2nd_rdg_mm_hg'\n",
    "                      ,'bpxdi2_diastolic__blood_pres_2nd_rdg_mm_hg'\n",
    "                      ,'bpxsy3_systolic__blood_pres_3rd_rdg_mm_hg'\n",
    "                      ,'bpxdi3_diastolic__blood_pres_3rd_rdg_mm_hg'\n",
    "                      ,'BPX_SY'\n",
    "                      ,'BPX_DI'\n",
    "                      ,'BPX'\n",
    "                      ,'flag'\n",
    "                      ,'seqn_respondent_sequence_number'\n",
    "                      ,'alq141u_days_drink_alcohol_per_wk_mo_yr'\n",
    "                      ,'alq151_ever_have_4_5_or_more_drinks_every_day'\n",
    "                      ,'bpq020_ever_told_you_had_high_blood_pressure'\n",
    "                     ])"
   ]
  },
  {
   "cell_type": "markdown",
   "metadata": {},
   "source": [
    "### 5. Renaming columns and mapping"
   ]
  },
  {
   "cell_type": "code",
   "execution_count": 41,
   "metadata": {},
   "outputs": [],
   "source": [
    "df = df.rename(columns={\n",
    "    'seqn_respondent_sequence_number': 'id',\n",
    "    'bpxpuls_pulse_regular_or_irregular':'pulse_regularity',\n",
    "    'riagendr_gender':'gender',\n",
    "    'ridageyr_age_in_years_at_screening':'age',\n",
    "    'pad680_minutes_sedentary_activity':'mins_sedentary_activity',\n",
    "    'pad630_minutes_moderate_intensity_work':'mins_moderate_intensity_activity',\n",
    "    'paq625_number_of_days_moderate_work':'number_of_days_moderate_intensity_activity',\n",
    "    'ridreth3_racehispanic_origin_w_nh_asian':'race',\n",
    "    'dmdeduc2_education_level':'education',\n",
    "    'dmdmartl_marital_status':'marital_status',\n",
    "    'smq020_smoked_at_least_100_cigarettes_in_life':'smoke',\n",
    "    'dr1tpota_potassium_mg':'potassium', \n",
    "    'dr1tcaff_caffeine_mg':'caffeine',\n",
    "    'dr1tsodi_sodium_mg':'sodium',\n",
    "    'dmqmiliz_served_active_duty_in_us_armed_forces':'active_duty',\n",
    "    'dbq095z_type_of_table_salt_used':'salt_type',\n",
    "    'alq111_ever_had_a_drink_of_any_kind_of_alcohol':'alcohol',\n",
    "    'alq142_number_days_have_4_or_5_drinkspast_12_mos':'alcohol_usage',\n",
    "    'drd370g_haddock_eaten_during_past_30_days':'haddock',\n",
    "    'drd370h_mackerel_eaten_during_past_30_days':'mackerel',\n",
    "    'drd370i_perch_eaten_during_past_30_days':'perch',\n",
    "    'drd370l_porgy_eaten_during_past_30_days':'porgy',\n",
    "    'drd370o_sea_bass_eaten_during_past_30_days':'sea_bass',\n",
    "    'drd370r_trout_eaten_during_past_30_days':'trout',\n",
    "    'diq050_taking_insulin_now': 'insulin',\n",
    "    'did060_how_long_taking_insulin': 'how_long_taking_insulin',\n",
    "    'diq060u_unit_of_measure_month_year' : 'insulin_unit_month_year',\n",
    "    'diq010_doctor_told_you_have_diabetes': 'diabetes',\n",
    "    'diq060_ever_told_you_have_prediabetes': 'prediabetes',\n",
    "    'dbd100_how_often_add_salt_to_food_at_table':'salt_add_at_table',\n",
    "    'drqsprep_salt_used_in_preparation':'salt_add_in_preparation',\n",
    "    'dr1tchol_cholesterol_mg': 'cholesterol',\n",
    "    'lbxin_insulin_uu_ml': 'insulin_uu_ml'\n",
    "})"
   ]
  },
  {
   "cell_type": "markdown",
   "metadata": {},
   "source": [
    "### 6. Creating dataset for modeling"
   ]
  },
  {
   "cell_type": "code",
   "execution_count": 42,
   "metadata": {},
   "outputs": [
    {
     "data": {
      "text/plain": [
       "4    6150\n",
       "3    5595\n",
       "2    5063\n",
       "1     666\n",
       "Name: bmi_range, dtype: int64"
      ]
     },
     "execution_count": 42,
     "metadata": {},
     "output_type": "execute_result"
    }
   ],
   "source": [
    "# BMI convertion for modelling\n",
    "df['bmi_range'] = None\n",
    "df.loc[df['BMI'] < 18.5, 'bmi_range']= 1\n",
    "df.loc[(df['BMI'] >= 18.5) & (df['BMI'] <= 24.9) ,'bmi_range']= 2 # Normal\n",
    "df.loc[(df['BMI'] >= 25) & (df['BMI'] <= 29.9),'bmi_range']= 3 # Overweight\n",
    "df.loc[(df['BMI'] > 30),'bmi_range']= 4 # Obese\n",
    "\n",
    "df.bmi_range.value_counts()"
   ]
  },
  {
   "cell_type": "code",
   "execution_count": 43,
   "metadata": {},
   "outputs": [],
   "source": [
    "df_model = df.copy()\n",
    "\n",
    "# droping rows with null BMI\n",
    "df_model = df_model.dropna(subset=['bmi_range'])\n",
    "df_model['bmi_range'] = df_model['bmi_range'].astype('int')\n",
    "# Droping insulin usage column from the modeling dataset\n",
    "df_model = df_model.drop(columns=['insulin_usage'])"
   ]
  },
  {
   "cell_type": "code",
   "execution_count": 44,
   "metadata": {},
   "outputs": [],
   "source": [
    "# Using quantile for mg related columns\n",
    "\n",
    "#df_model['caffeine'].dropna().quantile([0.0, .25, .75, .90])\n",
    "category = pd.cut(df_model.caffeine, bins=[0,11,200,350,5500],labels=[1,2,3,5])\n",
    "df_model.insert(0,'caffeine_q',category)\n",
    "df_model['caffeine_q'] = df_model['caffeine_q'].astype('float')\n",
    "\n",
    "#df_model['potassium'].dropna().quantile([0.0, .25, .75, .90])\n",
    "category = pd.cut(df_model.potassium, bins=[0,1744,3278,4218,20000],labels=[1,2,3,5])\n",
    "df_model.insert(0,'potassium_q',category)\n",
    "df_model['potassium_q'] = df_model['potassium_q'].astype('float')\n",
    "\n",
    "#df_model['sodium'].dropna().quantile([0.0, .25, .75, .90])\n",
    "category = pd.cut(df_model.sodium, bins=[0,2256,4384,5859,26000],labels=[1,2,3,5])\n",
    "df_model.insert(0,'sodium_q',category)\n",
    "df_model['sodium_q'] = df_model['sodium_q'].astype('float')\n",
    "\n",
    "\n",
    "df_model['mins_sedentary_activity'].dropna().quantile([0.0, .25, .75, .90])\n",
    "category = pd.cut(df_model.mins_sedentary_activity,bins=[0,180,480,600,1440],labels=[1,2,3,5])\n",
    "df_model.insert(0,'sedentary_q',category)"
   ]
  },
  {
   "cell_type": "markdown",
   "metadata": {},
   "source": [
    "Converting yes, no column to 0, 1"
   ]
  },
  {
   "cell_type": "code",
   "execution_count": 45,
   "metadata": {},
   "outputs": [],
   "source": [
    "convert_columns = ['gender', 'active_duty', 'pulse_regularity','smoke','insulin','prediabetes','alcohol','sleep_disorder']\n",
    "for column in convert_columns:\n",
    "    df_model[column] = df_model[column].map({1: 0, 2: 1, 7:9})"
   ]
  },
  {
   "cell_type": "code",
   "execution_count": 46,
   "metadata": {},
   "outputs": [
    {
     "data": {
      "text/plain": [
       "['/dsa/groups/capstonesp2022/on-campus/group_1/data/clean_dataset.pkl']"
      ]
     },
     "execution_count": 46,
     "metadata": {},
     "output_type": "execute_result"
    }
   ],
   "source": [
    "joblib.dump(df_model, '/dsa/groups/capstonesp2022/on-campus/group_1/data/clean_dataset.pkl')"
   ]
  },
  {
   "cell_type": "markdown",
   "metadata": {},
   "source": [
    "### 7.Preparing dataset for Visualization"
   ]
  },
  {
   "cell_type": "code",
   "execution_count": 47,
   "metadata": {},
   "outputs": [
    {
     "data": {
      "text/html": [
       "<div>\n",
       "<style scoped>\n",
       "    .dataframe tbody tr th:only-of-type {\n",
       "        vertical-align: middle;\n",
       "    }\n",
       "\n",
       "    .dataframe tbody tr th {\n",
       "        vertical-align: top;\n",
       "    }\n",
       "\n",
       "    .dataframe thead th {\n",
       "        text-align: right;\n",
       "    }\n",
       "</style>\n",
       "<table border=\"1\" class=\"dataframe\">\n",
       "  <thead>\n",
       "    <tr style=\"text-align: right;\">\n",
       "      <th></th>\n",
       "      <th>percentage</th>\n",
       "    </tr>\n",
       "  </thead>\n",
       "  <tbody>\n",
       "    <tr>\n",
       "      <th>smoke</th>\n",
       "      <td>0.005619</td>\n",
       "    </tr>\n",
       "    <tr>\n",
       "      <th>insulin</th>\n",
       "      <td>0.005619</td>\n",
       "    </tr>\n",
       "    <tr>\n",
       "      <th>mins_sedentary_activity</th>\n",
       "      <td>0.162958</td>\n",
       "    </tr>\n",
       "    <tr>\n",
       "      <th>sleep_hour</th>\n",
       "      <td>0.320297</td>\n",
       "    </tr>\n",
       "    <tr>\n",
       "      <th>BMI</th>\n",
       "      <td>1.022702</td>\n",
       "    </tr>\n",
       "    <tr>\n",
       "      <th>bmi_range</th>\n",
       "      <td>1.809395</td>\n",
       "    </tr>\n",
       "    <tr>\n",
       "      <th>pulse_regularity</th>\n",
       "      <td>4.725781</td>\n",
       "    </tr>\n",
       "    <tr>\n",
       "      <th>sodium</th>\n",
       "      <td>10.170825</td>\n",
       "    </tr>\n",
       "    <tr>\n",
       "      <th>potassium</th>\n",
       "      <td>10.170825</td>\n",
       "    </tr>\n",
       "    <tr>\n",
       "      <th>caffeine</th>\n",
       "      <td>10.170825</td>\n",
       "    </tr>\n",
       "    <tr>\n",
       "      <th>cholesterol</th>\n",
       "      <td>10.170825</td>\n",
       "    </tr>\n",
       "    <tr>\n",
       "      <th>prediabetes</th>\n",
       "      <td>15.458530</td>\n",
       "    </tr>\n",
       "    <tr>\n",
       "      <th>sleep_disorder</th>\n",
       "      <td>37.407283</td>\n",
       "    </tr>\n",
       "    <tr>\n",
       "      <th>trout</th>\n",
       "      <td>38.165880</td>\n",
       "    </tr>\n",
       "    <tr>\n",
       "      <th>porgy</th>\n",
       "      <td>38.165880</td>\n",
       "    </tr>\n",
       "    <tr>\n",
       "      <th>perch</th>\n",
       "      <td>38.165880</td>\n",
       "    </tr>\n",
       "    <tr>\n",
       "      <th>mackerel</th>\n",
       "      <td>38.165880</td>\n",
       "    </tr>\n",
       "    <tr>\n",
       "      <th>haddock</th>\n",
       "      <td>38.165880</td>\n",
       "    </tr>\n",
       "    <tr>\n",
       "      <th>sea_bass</th>\n",
       "      <td>38.165880</td>\n",
       "    </tr>\n",
       "    <tr>\n",
       "      <th>insulin_uu_ml</th>\n",
       "      <td>55.461902</td>\n",
       "    </tr>\n",
       "    <tr>\n",
       "      <th>number_of_days_moderate_intensity_activity</th>\n",
       "      <td>64.227916</td>\n",
       "    </tr>\n",
       "    <tr>\n",
       "      <th>mins_moderate_intensity_activity</th>\n",
       "      <td>64.424590</td>\n",
       "    </tr>\n",
       "  </tbody>\n",
       "</table>\n",
       "</div>"
      ],
      "text/plain": [
       "                                            percentage\n",
       "smoke                                         0.005619\n",
       "insulin                                       0.005619\n",
       "mins_sedentary_activity                       0.162958\n",
       "sleep_hour                                    0.320297\n",
       "BMI                                           1.022702\n",
       "bmi_range                                     1.809395\n",
       "pulse_regularity                              4.725781\n",
       "sodium                                       10.170825\n",
       "potassium                                    10.170825\n",
       "caffeine                                     10.170825\n",
       "cholesterol                                  10.170825\n",
       "prediabetes                                  15.458530\n",
       "sleep_disorder                               37.407283\n",
       "trout                                        38.165880\n",
       "porgy                                        38.165880\n",
       "perch                                        38.165880\n",
       "mackerel                                     38.165880\n",
       "haddock                                      38.165880\n",
       "sea_bass                                     38.165880\n",
       "insulin_uu_ml                                55.461902\n",
       "number_of_days_moderate_intensity_activity   64.227916\n",
       "mins_moderate_intensity_activity             64.424590"
      ]
     },
     "metadata": {},
     "output_type": "display_data"
    }
   ],
   "source": [
    "null=100*(df.isnull().sum())/(df.shape[0])\n",
    "df_null=pd.DataFrame({'percentage':null})\n",
    "df_high=df_null[df_null['percentage']>0]\n",
    "display(df_high.sort_values(by=['percentage']))"
   ]
  },
  {
   "cell_type": "code",
   "execution_count": 48,
   "metadata": {},
   "outputs": [
    {
     "data": {
      "text/plain": [
       "Unkown          6820\n",
       "Rarely          5262\n",
       "Occasionally    3293\n",
       "Very Often      2421\n",
       "Name: salt_add_at_table, dtype: int64"
      ]
     },
     "execution_count": 48,
     "metadata": {},
     "output_type": "execute_result"
    }
   ],
   "source": [
    "df['salt_add_at_table'] = df['salt_add_at_table'].map({1:'Rarely',\n",
    "                                                         2:'Occasionally',\n",
    "                                                         3:'Very Often', \n",
    "                                                         0:'Unkown'})\n",
    "df.salt_add_at_table.value_counts()"
   ]
  },
  {
   "cell_type": "code",
   "execution_count": 49,
   "metadata": {},
   "outputs": [
    {
     "data": {
      "text/plain": [
       "Very Often      6871\n",
       "Occasionally    4912\n",
       "Rarely          2748\n",
       "Unkown          2030\n",
       "Never           1235\n",
       "Name: salt_add_in_preparation, dtype: int64"
      ]
     },
     "execution_count": 49,
     "metadata": {},
     "output_type": "execute_result"
    }
   ],
   "source": [
    "df['salt_add_in_preparation'] = df['salt_add_in_preparation'].map({1:'Never',\n",
    "                             2:'Rarely',\n",
    "                             3:'Occasionally', \n",
    "                             4:'Very Often', \n",
    "                             0:'Unkown'})\n",
    "df.salt_add_in_preparation.value_counts()"
   ]
  },
  {
   "cell_type": "code",
   "execution_count": 50,
   "metadata": {},
   "outputs": [
    {
     "data": {
      "text/plain": [
       "20 - 40    7104\n",
       "40 - 60    6249\n",
       "60+        4443\n",
       "Name: age_group, dtype: int64"
      ]
     },
     "execution_count": 50,
     "metadata": {},
     "output_type": "execute_result"
    }
   ],
   "source": [
    "df['age_group'] = None\n",
    "df.loc[df['age'] <= 40 ,'age_group']= '20 - 40'\n",
    "df.loc[(df['age'] > 40) & (df['age'] <= 60),'age_group']= '40 - 60'\n",
    "df.loc[(df['age'] > 60),'age_group']= '60+'\n",
    "df.age_group.value_counts()"
   ]
  },
  {
   "cell_type": "code",
   "execution_count": 51,
   "metadata": {},
   "outputs": [
    {
     "data": {
      "text/plain": [
       "No     16470\n",
       "Yes     1324\n",
       "Name: active_duty, dtype: int64"
      ]
     },
     "execution_count": 51,
     "metadata": {},
     "output_type": "execute_result"
    }
   ],
   "source": [
    "df['active_duty'] = df['active_duty'].map({1:'Yes',2:'No'})\n",
    "df.active_duty.value_counts()"
   ]
  },
  {
   "cell_type": "code",
   "execution_count": 52,
   "metadata": {},
   "outputs": [
    {
     "data": {
      "text/plain": [
       "Regular      16602\n",
       "Irregular      353\n",
       "Name: pulse_regularity, dtype: int64"
      ]
     },
     "execution_count": 52,
     "metadata": {},
     "output_type": "execute_result"
    }
   ],
   "source": [
    "df['pulse_regularity'] = df['pulse_regularity'].map({1:'Regular',2:'Irregular'})\n",
    "df.pulse_regularity.value_counts()"
   ]
  },
  {
   "cell_type": "code",
   "execution_count": 53,
   "metadata": {},
   "outputs": [
    {
     "data": {
      "text/plain": [
       "Obese          6150\n",
       "Overweight     5595\n",
       "Normal         5063\n",
       "Underweight     666\n",
       "Name: bmi_range, dtype: int64"
      ]
     },
     "execution_count": 53,
     "metadata": {},
     "output_type": "execute_result"
    }
   ],
   "source": [
    "df['bmi_range'] = None\n",
    "df.loc[df['BMI'] < 18.5, 'bmi_range']= 'Underweight'\n",
    "df.loc[(df['BMI'] >= 18.5) & (df['BMI'] <= 24.9) ,'bmi_range']= 'Normal' # Normal\n",
    "df.loc[(df['BMI'] >= 25) & (df['BMI'] <= 29.9),'bmi_range']= 'Overweight' # Overweight\n",
    "df.loc[(df['BMI'] > 30),'bmi_range']= 'Obese' # Obese\n",
    "df.bmi_range.value_counts()"
   ]
  },
  {
   "cell_type": "code",
   "execution_count": 54,
   "metadata": {},
   "outputs": [
    {
     "data": {
      "text/plain": [
       "11. Never last year                  5615\n",
       "12. Don't know                       5465\n",
       "10. 1 to 2 times in the last year    1565\n",
       "9. 3 to 6 times in the last year     1194\n",
       "6. 2 to 3 times a month               870\n",
       "5. Once a week                        746\n",
       "7. Once a month                       710\n",
       "4. 2 times a week                     547\n",
       "8. 7 to 11 times in the last year     406\n",
       "3. 3 to 4 times a week                348\n",
       "1. Every day                          198\n",
       "2. Nearly every day                   132\n",
       "Name: alcohol_usage, dtype: int64"
      ]
     },
     "execution_count": 54,
     "metadata": {},
     "output_type": "execute_result"
    }
   ],
   "source": [
    "df['alcohol_usage'] = df['alcohol_usage'].map({  1: '1. Every day'\n",
    "                                               , 2: '2. Nearly every day'\n",
    "                                               , 3: '3. 3 to 4 times a week'\n",
    "                                               , 4: '4. 2 times a week'\n",
    "                                               , 5: '5. Once a week'\n",
    "                                               , 6: '6. 2 to 3 times a month'\n",
    "                                               , 7: '7. Once a month'\n",
    "                                               , 8: '8. 7 to 11 times in the last year'\n",
    "                                               , 9: '9. 3 to 6 times in the last year'\n",
    "                                               , 10:'10. 1 to 2 times in the last year'\n",
    "                                               , 0: '11. Never last year'\n",
    "                                               , 99:\"12. Don't know\"\n",
    "                                              })\n",
    "df.alcohol_usage.value_counts()"
   ]
  },
  {
   "cell_type": "code",
   "execution_count": 55,
   "metadata": {},
   "outputs": [
    {
     "data": {
      "text/plain": [
       "11. Never last year                  5615\n",
       "12. Don't know                       5465\n",
       "10. 1 to 2 times in the last year    1565\n",
       "9. 3 to 6 times in the last year     1194\n",
       "6. 2 to 3 times a month               870\n",
       "5. Once a week                        746\n",
       "7. Once a month                       710\n",
       "4. 2 times a week                     547\n",
       "8. 7 to 11 times in the last year     406\n",
       "3. 3 to 4 times a week                348\n",
       "1. Every day                          198\n",
       "2. Nearly every day                   132\n",
       "Name: alcohol_usage, dtype: int64"
      ]
     },
     "execution_count": 55,
     "metadata": {},
     "output_type": "execute_result"
    }
   ],
   "source": [
    "df.alcohol_usage.value_counts()"
   ]
  },
  {
   "cell_type": "code",
   "execution_count": 56,
   "metadata": {},
   "outputs": [
    {
     "data": {
      "text/plain": [
       "No     10143\n",
       "Yes     7646\n",
       "Name: smoke, dtype: int64"
      ]
     },
     "execution_count": 56,
     "metadata": {},
     "output_type": "execute_result"
    }
   ],
   "source": [
    "df['smoke'] = df['smoke'].map({1:'Yes', 2:'No'})\n",
    "df.smoke.value_counts()"
   ]
  },
  {
   "cell_type": "code",
   "execution_count": 57,
   "metadata": {},
   "outputs": [
    {
     "data": {
      "text/plain": [
       "Female    9195\n",
       "Male      8601\n",
       "Name: gender, dtype: int64"
      ]
     },
     "execution_count": 57,
     "metadata": {},
     "output_type": "execute_result"
    }
   ],
   "source": [
    "df['gender'].replace(1.0,'Male', inplace=True)\n",
    "df['gender'].replace(2.0,'Female', inplace=True)\n",
    "df.gender.value_counts()"
   ]
  },
  {
   "cell_type": "code",
   "execution_count": 58,
   "metadata": {},
   "outputs": [
    {
     "data": {
      "text/plain": [
       "White               6234\n",
       "Black               3907\n",
       "Mexican American    2987\n",
       "Other Hispanic      1995\n",
       "Asian               1930\n",
       "Multi-Racial         743\n",
       "Name: race, dtype: int64"
      ]
     },
     "execution_count": 58,
     "metadata": {},
     "output_type": "execute_result"
    }
   ],
   "source": [
    "df['race'] = df['race'].map({1:'Mexican American',\n",
    "                             2:'Other Hispanic',\n",
    "                             3:'White', \n",
    "                             4:'Black', \n",
    "                             5:'Multi-Racial',\n",
    "                             6:'Asian'})\n",
    "df.race.value_counts()"
   ]
  },
  {
   "cell_type": "code",
   "execution_count": 59,
   "metadata": {},
   "outputs": [
    {
     "data": {
      "text/plain": [
       "Yes           9625\n",
       "No            5615\n",
       "Don't know    2556\n",
       "Name: alcohol, dtype: int64"
      ]
     },
     "execution_count": 59,
     "metadata": {},
     "output_type": "execute_result"
    }
   ],
   "source": [
    "df['alcohol'].replace(1.0,'Yes', inplace=True)\n",
    "df['alcohol'].replace(2.0,'No', inplace=True)\n",
    "df['alcohol'].replace(9.0,\"Don't know\", inplace=True)\n",
    "\n",
    "df.alcohol.value_counts()"
   ]
  },
  {
   "cell_type": "code",
   "execution_count": 60,
   "metadata": {},
   "outputs": [
    {
     "data": {
      "text/plain": [
       "No            10164\n",
       "Yes             963\n",
       "Don't know       12\n",
       "Name: sleep_disorder, dtype: int64"
      ]
     },
     "execution_count": 60,
     "metadata": {},
     "output_type": "execute_result"
    }
   ],
   "source": [
    "df['sleep_disorder'].replace(1.0,'Yes', inplace=True)\n",
    "df['sleep_disorder'].replace(2.0,'No', inplace=True)\n",
    "df['sleep_disorder'].replace(9.0,\"Don't know\", inplace=True)\n",
    "\n",
    "df.sleep_disorder.value_counts()"
   ]
  },
  {
   "cell_type": "code",
   "execution_count": 61,
   "metadata": {},
   "outputs": [
    {
     "data": {
      "text/plain": [
       "No     17100\n",
       "Yes      695\n",
       "Name: insulin, dtype: int64"
      ]
     },
     "execution_count": 61,
     "metadata": {},
     "output_type": "execute_result"
    }
   ],
   "source": [
    "df['insulin'].replace(1.0,'Yes', inplace=True)\n",
    "df['insulin'].replace(2.0,'No', inplace=True)\n",
    "df['insulin'].replace(9.0,\"Don't know\", inplace=True)\n",
    "\n",
    "df.insulin.value_counts()"
   ]
  },
  {
   "cell_type": "code",
   "execution_count": 62,
   "metadata": {},
   "outputs": [
    {
     "data": {
      "text/plain": [
       "No            15036\n",
       "Yes            2349\n",
       "Borderline      402\n",
       "Don't know        9\n",
       "Name: diabetes, dtype: int64"
      ]
     },
     "execution_count": 62,
     "metadata": {},
     "output_type": "execute_result"
    }
   ],
   "source": [
    "df['diabetes'].replace(1.0,'Yes', inplace=True)\n",
    "df['diabetes'].replace(2.0,'No', inplace=True)\n",
    "df['diabetes'].replace(3.0,'Borderline', inplace=True)\n",
    "df['diabetes'].replace(9.0, \"Don't know\", inplace=True)\n",
    "df.diabetes.value_counts()"
   ]
  },
  {
   "cell_type": "code",
   "execution_count": 63,
   "metadata": {},
   "outputs": [
    {
     "data": {
      "text/plain": [
       "No            13962\n",
       "Yes            1059\n",
       "Don't know       24\n",
       "Name: prediabetes, dtype: int64"
      ]
     },
     "execution_count": 63,
     "metadata": {},
     "output_type": "execute_result"
    }
   ],
   "source": [
    "df['prediabetes'].replace(1.0,'Yes', inplace=True)\n",
    "df['prediabetes'].replace(2.0,'No', inplace=True)\n",
    "df['prediabetes'].replace(9.0, \"Don't know\", inplace=True)\n",
    "df.prediabetes.value_counts()"
   ]
  },
  {
   "cell_type": "code",
   "execution_count": 64,
   "metadata": {},
   "outputs": [
    {
     "data": {
      "text/plain": [
       "None      17118\n",
       "Year        592\n",
       "Months       86\n",
       "Name: insulin_unit_month_year, dtype: int64"
      ]
     },
     "execution_count": 64,
     "metadata": {},
     "output_type": "execute_result"
    }
   ],
   "source": [
    "df['insulin_unit_month_year'].replace(0.0,'None', inplace=True)\n",
    "df['insulin_unit_month_year'].replace(1.0,'Months', inplace=True)\n",
    "df['insulin_unit_month_year'].replace(2.0,'Year', inplace=True)\n",
    "df.insulin_unit_month_year.value_counts()"
   ]
  },
  {
   "cell_type": "code",
   "execution_count": 65,
   "metadata": {},
   "outputs": [
    {
     "data": {
      "text/plain": [
       "No     8976\n",
       "Yes    8820\n",
       "Name: HBP, dtype: int64"
      ]
     },
     "execution_count": 65,
     "metadata": {},
     "output_type": "execute_result"
    }
   ],
   "source": [
    "df['HBP'] = df['HBP'].map({0:'No',1:'Yes'})\n",
    "df.HBP.value_counts()"
   ]
  },
  {
   "cell_type": "code",
   "execution_count": 66,
   "metadata": {},
   "outputs": [
    {
     "data": {
      "text/plain": [
       "['/dsa/groups/capstonesp2022/on-campus/group_1/data/visualization_dataset.pkl']"
      ]
     },
     "execution_count": 66,
     "metadata": {},
     "output_type": "execute_result"
    }
   ],
   "source": [
    "joblib.dump(df, '/dsa/groups/capstonesp2022/on-campus/group_1/data/visualization_dataset.pkl')"
   ]
  },
  {
   "cell_type": "code",
   "execution_count": 67,
   "metadata": {},
   "outputs": [],
   "source": [
    "#df.to_csv('dashboard.csv')"
   ]
  }
 ],
 "metadata": {
  "kernelspec": {
   "display_name": "Python 3",
   "language": "python",
   "name": "python3"
  },
  "language_info": {
   "codemirror_mode": {
    "name": "ipython",
    "version": 3
   },
   "file_extension": ".py",
   "mimetype": "text/x-python",
   "name": "python",
   "nbconvert_exporter": "python",
   "pygments_lexer": "ipython3",
   "version": "3.7.3"
  }
 },
 "nbformat": 4,
 "nbformat_minor": 2
}
