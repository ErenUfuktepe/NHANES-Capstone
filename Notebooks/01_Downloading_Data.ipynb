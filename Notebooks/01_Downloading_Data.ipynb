{
 "cells": [
  {
   "cell_type": "markdown",
   "metadata": {},
   "source": [
    "# Uploading CDC Data\n",
    "\n",
    "This notebook is to upload CDC data to server."
   ]
  },
  {
   "cell_type": "markdown",
   "metadata": {},
   "source": [
    "# Overview \n",
    "\n",
    "#####  What is NHANES Data?\n",
    "\n",
    "NHANES stands for National Health and Nutrition Examination Survey. It is a major program of the National Center for Health Statistics (NCHS), which is part of the Centers for Disease Control and Prevention (CDC). This program study is designed to assess the health and nutritional status of adults and children in the United States and combines interviews and physical examinations. In 1999, the survey became a continuous program that has a changing focus on a variety of health and nutrition measurements to meet emerging needs. The survey data are available on the internet for data users and researchers throughout the world. NHANES collects data on a variety of health-related topics, including:\n",
    "\n",
    "* Demographic Data\n",
    "* Dietary Data\n",
    "* Examination Data\n",
    "* Laboratory Data\n",
    "* Questionnaire Data\n",
    "\n",
    "For more information visit the below beloew link:\n",
    "* https://www.cdc.gov/nchs/nhanes/"
   ]
  },
  {
   "cell_type": "code",
   "execution_count": 1,
   "metadata": {},
   "outputs": [],
   "source": [
    "# Libraries\n",
    "# These are the required libraries to run this notebook.\n",
    "import requests\n",
    "from bs4 import BeautifulSoup\n",
    "import re\n",
    "import os\n",
    "import shutil"
   ]
  },
  {
   "cell_type": "markdown",
   "metadata": {},
   "source": [
    "##### Downloading Process\n",
    "\n",
    "Since there are data for different years, first we need to select a year (data year that we want to download). When we select the year that we want to download, this program will send a request to the website and get all the topics or accessiable data topic from the website. After getting all the topics, it create an unique link to download the spesific data. For example, the lastest year on the website is 2017-2018 (We don't have access to 2019-2020 data because of Covid-19 pandemic.) so to download 2017-2018 data we need to set the year parameter as 2017 or 2018. The program will send a request to the website to get all the existing data topics for a specific year such as demographics, dietary, etc. Since each topic has subtopics, for example, examination data has 14 different datasets such as Audiometry, Body Measures, Blood Pressure, etc. For each sub-topic, the program will create a link to download each of them.\n",
    "\n",
    "The program will create three nested folders to the specified location for one dataset. For example, we want to download data from 2017 so it will create a folder called 2017 and it will create a folder for each base topic like Demographic, Dietary, Examination, Laboratory, and Questionnaire. For these folders, It will create new folders inside these folders according to subtopics for each of them. You can find the example below.\n",
    "* /home/***2017***/***Demographics***/***Demographic_Variables_and_Sample_Weights_File***/***DEMO_I.XPT***\n",
    "    * ***home***  -> Location that we want to download.\n",
    "    * ***2017***   -> The data year that we want to download.\n",
    "    * ***Demographics***  -> Base data topic that we are going to download.\n",
    "    * ***Demographic_Variables_and_Sample_Weights_File***  -> Sub data topic that we are going to download.\n",
    "    * ***DEMO_I.XPT***  -> Dataset.\n",
    "\n",
    "In the below cell we are defining all the required parameters."
   ]
  },
  {
   "cell_type": "code",
   "execution_count": 2,
   "metadata": {},
   "outputs": [],
   "source": [
    "# Give the path where you want to download the data.\n",
    "#download_to = '/dsa/groups/casestudy2021f/group_1/data/{year}/{content}/{folder}' #For casestudy\n",
    "download_to = '/dsa/groups/capstonesp2022/on-campus/group_1/data/{year}/{content}/{folder}'\n",
    "BASE_DIR = os.getcwd() # Current directory\n",
    "\n",
    "# Data source url to get contents.\n",
    "main = 'https://wwwn.cdc.gov/nchs/nhanes/continuousnhanes/default.aspx?BeginYear={year}'\n",
    "# Data source url to get sub contents.\n",
    "data_url = 'https://wwwn.cdc.gov/nchs/nhanes/search/datapage.aspx?Component={component}&CycleBeginYear={year}'\n",
    "# Data source url to download.\n",
    "download_url = 'https://wwwn.cdc.gov/{href}'\n",
    "# Year of data that you want to download.\n",
    "# When you want to download 2017-2018 you can either give 2017 or 2018.\n",
    "# 2017 - 2018 --Downloaded\n",
    "# 2015 - 2016 --Downloaded\n",
    "# 2013 - 2014 --Downloaded --Note 2 Physical Activity Monitor - Hour and Physical Activity Monitor - Minute files are not download because they too big\n",
    "# 2011 - 2012 --Downloaded --Note 2 Physical Activity Monitor - Hour and Physical Activity Monitor - Minute files are not download because they too big\n",
    "# 2009 - 2010\n",
    "\n",
    "year = 2009"
   ]
  },
  {
   "cell_type": "code",
   "execution_count": 3,
   "metadata": {},
   "outputs": [],
   "source": [
    "# For deleting existing files\n",
    "#shutil.rmtree('/dsa/groups/casestudy2021f/group_1/data/2015')"
   ]
  },
  {
   "cell_type": "code",
   "execution_count": 4,
   "metadata": {},
   "outputs": [],
   "source": [
    "# This function extracts content list from html table and downloads all the contents.\n",
    "def extract_from_table(content, new_response):\n",
    "    new_soup = BeautifulSoup(new_response.text, features='html.parser')\n",
    "    tbody = new_soup.find_all('tbody')\n",
    "    tr = tbody[0].find_all('tr')\n",
    "    my_dictionary_list = list(map(lambda x: get_folder_and_file_name(x), tr))\n",
    "    print('\\nDownloading ', content, '- Number of Elements : ', len(my_dictionary_list))\n",
    "    list(map(lambda x: download(content, x['Name'], x['Href']) if x is not None else '', my_dictionary_list))"
   ]
  },
  {
   "cell_type": "code",
   "execution_count": 5,
   "metadata": {},
   "outputs": [],
   "source": [
    "# This function gets the file name and download link from html content.\n",
    "def get_folder_and_file_name(new_tr):\n",
    "    try:\n",
    "        td = new_tr.find_all('td')\n",
    "        name = (list(td[0].children)[0])\n",
    "        href = td[2].a['href']\n",
    "        return {'Name': name, 'Href': href}\n",
    "    except:\n",
    "        return None"
   ]
  },
  {
   "cell_type": "code",
   "execution_count": 6,
   "metadata": {},
   "outputs": [],
   "source": [
    "# This function is to download from source to local system.\n",
    "def download(content, folder, url):\n",
    "    global download_url, BASE_DIR, year\n",
    "    filename = url.split('/')[-1]\n",
    "    folder = folder.replace(\":\", \"\")\n",
    "    path = download_to.format(year=year, content=content, folder=folder)\n",
    "    if not os.path.exists(path):\n",
    "        os.makedirs(path)\n",
    "    os.chdir(path)\n",
    "    if filename == 'PAXHR_G.XPT' or filename == 'PAXMIN_G.XPT':\n",
    "        return 0\n",
    "    new_request = requests.get(download_url.format(href=url), allow_redirects=True)\n",
    "    open(filename, 'wb').write(new_request.content)\n",
    "    print('Folder : ', folder, '- File : ', filename)"
   ]
  },
  {
   "cell_type": "code",
   "execution_count": 7,
   "metadata": {},
   "outputs": [
    {
     "name": "stdout",
     "output_type": "stream",
     "text": [
      "\n",
      "Downloading  Demographics - Number of Elements :  1\n",
      "Folder :  Demographic Variables & Sample Weights - File :  DEMO_F.XPT\n",
      "\n",
      "Downloading  Dietary - Number of Elements :  16\n",
      "Folder :  Dietary Interview - Individual Foods, First Day - File :  DR1IFF_F.XPT\n",
      "Folder :  Dietary Interview - Individual Foods, Second Day - File :  DR2IFF_F.XPT\n",
      "Folder :  Dietary Interview - Total Nutrient Intakes, First Day - File :  DR1TOT_F.XPT\n",
      "Folder :  Dietary Interview - Total Nutrient Intakes, Second Day - File :  DR2TOT_F.XPT\n",
      "Folder :  Dietary Interview Technical Support File - Food Codes - File :  DRXFCD_F.XPT\n",
      "Folder :  Dietary Interview Technical Support File - Modification Codes - File :  DRXMCD_F.XPT\n",
      "Folder :  Dietary Screener Questionnaire - File :  DTQ_F.XPT\n",
      "Folder :  Dietary Supplement Database - Blend Information - File :  DSBI.XPT\n",
      "Folder :  Dietary Supplement Database - Ingredient Information - File :  DSII.XPT\n",
      "Folder :  Dietary Supplement Database - Product Information - File :  DSPI.XPT\n",
      "Folder :  Dietary Supplement Use 24-Hour - Individual Dietary Supplements, First Day - File :  DS1IDS_F.XPT\n",
      "Folder :  Dietary Supplement Use 24-Hour - Individual Dietary Supplements, Second Day - File :  DS2IDS_F.XPT\n",
      "Folder :  Dietary Supplement Use 24-Hour - Total Dietary Supplements, First Day - File :  DS1TOT_F.XPT\n",
      "Folder :  Dietary Supplement Use 24-Hour - Total Dietary Supplements, Second Day - File :  DS2TOT_F.XPT\n",
      "Folder :  Dietary Supplement Use 30 Day - Individual Dietary Supplements - File :  DSQIDS_F.XPT\n",
      "Folder :  Dietary Supplement Use 30-Day - Total Dietary Supplements - File :  DSQTOT_F.XPT\n",
      "\n",
      "Downloading  Examination - Number of Elements :  15\n",
      "Folder :  Arthritis Body Measures - File :  ARX_F.XPT\n",
      "Folder :  Audiometry - File :  AUX_F.XPT\n",
      "Folder :  Audiometry - Acoustic Reflex - File :  AUXAR_F.XPT\n",
      "Folder :  Audiometry - Tympanometry - File :  AUXTYM_F.XPT\n",
      "Folder :  Blood Pressure - File :  BPX_F.XPT\n",
      "Folder :  Body Measures - File :  BMX_F.XPT\n",
      "Folder :  Dual Energy X-ray Absorptiometry - Femur - File :  DXXFEM_F.XPT\n",
      "Folder :  Dual Energy X-ray Absorptiometry - Spine - File :  DXXSPN_F.XPT\n",
      "Folder :  Exhaled Nitric Oxide - File :  ENX_F.XPT\n",
      "Folder :  Fluorosis - Clinical  - File :  FLXCLN_F.XPT\n",
      "Folder :  Oral Health - Dentition - File :  OHXDEN_F.XPT\n",
      "Folder :  Oral Health - Periodontal - File :  OHXPER_F.XPT\n",
      "Folder :  Oral Health - Recommendation of Care - File :  OHXREF_F.XPT\n",
      "Folder :  Spirometry - Pre and Post-Bronchodilator - File :  SPX_F.XPT\n",
      "Folder :  Spirometry - Raw Curve Data - File :  SPXRAW_F.ZIP\n",
      "\n",
      "Downloading  Laboratory - Number of Elements :  67\n",
      "Folder :  Albumin & Creatinine - Urine - File :  ALB_CR_F.XPT\n",
      "Folder :  Apolipoprotein B - File :  APOB_F.XPT\n",
      "Folder :  Arsenics - Total & Speciated - Urine - File :  UAS_F.XPT\n",
      "Folder :  Brominated Flame Retardants (BFRs) - Pooled Samples - File :  BFRPOL_F.XPT\n",
      "Folder :  Cadmium, Lead, & Total Mercury - Blood - File :  PBCD_F.XPT\n",
      "Folder :  Caffeine & Caffeine Metabolites - Urine - File :  CAFE_F.XPT\n",
      "Folder :  Chlamydia - Urine - File :  CHLMDA_F.XPT\n",
      "Folder :  Cholesterol - HDL - File :  HDL_F.XPT\n",
      "Folder :  Cholesterol - LDL & Triglycerides - File :  TRIGLY_F.XPT\n",
      "Folder :  Cholesterol - Total - File :  TCHOL_F.XPT\n",
      "Folder :  Complete Blood Count with 5-part Differential - Whole Blood - File :  CBC_F.XPT\n",
      "Folder :  Cotinine - Serum & Total NNAL - Urine - File :  COTNAL_F.XPT\n",
      "Folder :  C-Reactive Protein (CRP) - File :  CRP_F.XPT\n",
      "Folder :  DEET and Metabolites - File :  DEET_F.XPT\n",
      "Folder :  Environmental Phenols - File :  EPH_F.XPT\n",
      "Folder :  Fasting Questionnaire - File :  FASTQX_F.XPT\n",
      "Folder :  Ferritin - File :  FERTIN_F.XPT\n",
      "Folder :  Folate - RBC & Serum - File :  FOLATE_F.XPT\n",
      "Folder :  Glycohemoglobin - File :  GHB_F.XPT\n",
      "Folder :  Hepatitis A Antibody - File :  HEPA_F.XPT\n",
      "Folder :  Hepatitis B Surface Antibody - File :  HEPB_S_F.XPT\n",
      "Folder :  Hepatitis B Core Antibody, Surface Antigen; Hepatitis D Antibody - File :  HEPBD_F.XPT\n",
      "Folder :  Hepatitis C Confirmed Antibody, RNA (HCV-RNA), & Genotype - File :  HEPC_F.XPT\n",
      "Folder :  Hepatitis E  IgG & IgM Antibodies - File :  HEPE_F.XPT\n",
      "Folder :  Herpes Simplex Virus Type-1 & Type-2 - File :  HSV_F.XPT\n",
      "Folder :  HIV Antibody Test - File :  HIV_F.XPT\n",
      "Folder :  Human Papillomavirus (HPV) - 6, 11, 16 & 18 Antibody - Serum - File :  HPVSER_F.XPT\n",
      "Folder :  Human Papillomavirus (HPV) - Oral Rinse - File :  ORHPV_F.XPT\n",
      "Folder :  Human Papillomavirus (HPV) DNA - Vaginal Swab Digene Hybrid Capture & Roche Linear Array - File :  HPVSWR_F.XPT\n",
      "Folder :  Iodine - Urine - File :  UIO_F.XPT\n",
      "Folder :  Klotho - Serum (Surplus) - File :  SSKL_F.XPT\n",
      "Folder :  Measles, Mumps, Rubella & Varicella - File :  MMRV_F.XPT\n",
      "Folder :  Mercury - Inorganic - Blood - File :  IHG_F.XPT\n",
      "Folder :  Mercury - Inorganic, Urine - File :  UHG_F.XPT\n",
      "Folder :  Metals - Urine - File :  UHM_F.XPT\n",
      "Folder :  Non-dioxin-like Polychlorinated Biphenyls & Mono-ortho-substituted Polychlorinated Biphenyls - Pooled Samples - File :  PCBPOL_F.XPT\n",
      "Folder :  Oral Glucose Tolerance Test - File :  OGTT_F.XPT\n",
      "Folder :  Osmolality - Urine - File :  UCOSMO_F.XPT\n",
      "Folder :  Perchlorate, Nitrate & Thiocyanate - Urine - File :  PERNT_F.XPT\n",
      "Folder :  Pesticides - Environmental - Urine - File :  PP_F.XPT\n",
      "Folder :  Pesticides - Organochlorine Pesticides - Pooled Samples - File :  PSTPOL_F.XPT\n",
      "Folder :  Phthalates - Urine - File :  PHTHTE_F.XPT\n",
      "Folder :  Phytoestrogens - Urine - File :  PHYTO_F.XPT\n",
      "Folder :  Plasma Fasting Glucose & Insulin - File :  GLU_F.XPT\n",
      "Folder :  Polyaromatic Hydrocarbons -Urine - File :  PAH_F.XPT\n",
      "Folder :  Polychlorinated dibenzo-p-dioxins (PCDDs), Dibenzofurans (PCDFs) & Coplanar Polychlorinated Biphenyls (cPCBs) - Pooled Samples - File :  DOXPOL_F.XPT\n",
      "Folder :  Polyfluoroalkyl Chemicals - File :  PFC_F.XPT\n",
      "Folder :  Pooled-Sample Technical Support File  - File :  POOLTF_F.XPT\n",
      "Folder :  Pregnancy Test - Urine - File :  UCPREG_F.XPT\n",
      "Folder :  Prostate Specific Antigen (PSA) - File :  PSA_F.XPT\n",
      "Folder :  Pyrethroids, Herbicides, & OP Metabolites - Urine - File :  UPHOPM_F.XPT\n",
      "Folder :  Standard Biochemistry Profile - File :  BIOPRO_F.XPT\n",
      "Folder :  Thyroid Profile - File :  THYROD_F.XPT\n",
      "Folder :  Tissue Transglutaminase Assay (IgA-TTG) & IgA Endomyseal Antibody Assay (IgA EMA) - File :  TGEMA_F.XPT\n",
      "Folder :  Trans Fatty Acids - File :  TFA_F.XPT\n",
      "Folder :  Transferrin Receptor - File :  TFR_F.XPT\n",
      "Folder :  Urine Flow Rate - File :  UCFLOW_F.XPT\n",
      "Folder :  Vitamin B6 - File :  VIT_B6_F.XPT\n",
      "Folder :  Vitamin D - File :  VID_F.XPT\n",
      "Folder :  Volatile Organic Compounds (VOCs) - Blood - File :  VOCWB_F.XPT\n",
      "Folder :  Volatile Organic Compounds (VOCs) - Trihalomethanes/MTBE/Nitromethane - Blood - File :  VOCMWB_F.XPT\n",
      "Folder :  Volatile Organic Compounds (VOCs) - Water - File :  VOC_F.XPT\n",
      "\n",
      "Downloading  Questionnaire - Number of Elements :  46\n",
      "Folder :  Acculturation - File :  ACQ_F.XPT\n",
      "Folder :  Air Quality - File :  AQQ_F.XPT\n",
      "Folder :  Alcohol Use - File :  ALQ_F.XPT\n",
      "Folder :  Alcohol Use (Ages 18-19) - File :  ALQY_F.XPT\n",
      "Folder :  Arthritis - File :  ARQ_F.XPT\n",
      "Folder :  Audiometry - File :  AUQ_F.XPT\n",
      "Folder :  Blood Pressure & Cholesterol - File :  BPQ_F.XPT\n",
      "Folder :  Bowel Health - File :  BHQ_F.XPT\n",
      "Folder :  Cardiovascular Health - File :  CDQ_F.XPT\n",
      "Folder :  Consumer Behavior - File :  CBQ_F.XPT\n",
      "Folder :  Consumer Behavior Phone Follow-up Module - Adult - File :  CBQPFA_F.XPT\n",
      "Folder :  Consumer Behavior Phone Follow-up Module - Child - File :  CBQPFC_F.XPT\n",
      "Folder :  Current Health Status - File :  HSQ_F.XPT\n",
      "Folder :  Dermatology - File :  DEQ_F.XPT\n",
      "Folder :  Diabetes - File :  DIQ_F.XPT\n",
      "Folder :  Diet Behavior & Nutrition - File :  DBQ_F.XPT\n",
      "Folder :  Drug Use - File :  DUQ_F.XPT\n",
      "Folder :  Early Childhood - File :  ECQ_F.XPT\n",
      "Folder :  Food Security - File :  FSQ_F.XPT\n",
      "Folder :  Health Insurance - File :  HIQ_F.XPT\n",
      "Folder :  Hepatitis C Follow Up - File :  HCQ_F.XPT\n",
      "Folder :  Hospital Utilization & Access to Care - File :  HUQ_F.XPT\n",
      "Folder :  Housing Characteristics - File :  HOQ_F.XPT\n",
      "Folder :  Immunization - File :  IMQ_F.XPT\n",
      "Folder :  Income - File :  INQ_F.XPT\n",
      "Folder :  Kidney Conditions - Urology - File :  KIQ_U_F.XPT\n",
      "Folder :  Medical Conditions - File :  MCQ_F.XPT\n",
      "Folder :  Mental Health - Depression Screener - File :  DPQ_F.XPT\n"
     ]
    },
    {
     "name": "stdout",
     "output_type": "stream",
     "text": [
      "Folder :  Occupation - File :  OCQ_F.XPT\n",
      "Folder :  Oral Health - File :  OHQ_F.XPT\n",
      "Folder :  Osteoporosis - File :  OSQ_F.XPT\n",
      "Folder :  Pesticide Use - File :  PUQMEC_F.XPT\n",
      "Folder :  Physical Activity - File :  PAQ_F.XPT\n",
      "Folder :  Physical Functioning - File :  PFQ_F.XPT\n",
      "Folder :  Prescription Medications - File :  RXQ_RX_F.XPT\n",
      "Folder :  Prescription Medications - Drug Information - File :  RXQ_DRUG.xpt\n",
      "Folder :  Reproductive Health - File :  RHQ_F.XPT\n",
      "Folder :  Respiratory Health - File :  RDQ_F.XPT\n",
      "Folder :  Sexual Behavior - File :  SXQ_F.XPT\n",
      "Folder :  Sleep Disorders - File :  SLQ_F.XPT\n",
      "Folder :  Smoking - Cigarette Use - File :  SMQ_F.XPT\n",
      "Folder :  Smoking - Household Smokers - File :  SMQFAM_F.XPT\n",
      "Folder :  Smoking - Recent Tobacco Use - File :  SMQRTU_F.XPT\n",
      "Folder :  Volatile Toxicant (Subsample) - File :  VTQ_F.XPT\n",
      "Folder :  Weight History - File :  WHQ_F.XPT\n",
      "Folder :  Weight History - Youth - File :  WHQMEC_F.XPT\n",
      "\n",
      "Downloading  LimitedAccess - Number of Elements :  23\n"
     ]
    },
    {
     "data": {
      "text/plain": [
       "[None, None, None, None, None, None]"
      ]
     },
     "execution_count": 7,
     "metadata": {},
     "output_type": "execute_result"
    }
   ],
   "source": [
    "# Sending a request to get data topics for a specific year.\n",
    "response = requests.get(main.format(year=year), allow_redirects=True)\n",
    "# Converting the response to readable HTML.\n",
    "soup = BeautifulSoup(response.text, features='html.parser')\n",
    "\n",
    "div = soup.find_all('div', class_='card mb-3')\n",
    "div_data = div[0].find_all('a')\n",
    "data = list(map(lambda x: re.sub('\\s+', '', list(x.children)[-1]).replace(\"Data\", \"\"), div_data))\n",
    "\n",
    "list(map(lambda x: extract_from_table(x, requests.get(data_url.format(component=x, year=year), allow_redirects=True)),\n",
    "         data))"
   ]
  },
  {
   "cell_type": "code",
   "execution_count": 8,
   "metadata": {},
   "outputs": [
    {
     "data": {
      "text/plain": [
       "['2017', '2015', '2013', '2011', '2009']"
      ]
     },
     "execution_count": 8,
     "metadata": {},
     "output_type": "execute_result"
    }
   ],
   "source": [
    "# Checking downloaded data.\n",
    "os.listdir('/dsa/groups/capstonesp2022/on-campus/group_1/data')"
   ]
  },
  {
   "cell_type": "code",
   "execution_count": 9,
   "metadata": {},
   "outputs": [],
   "source": [
    "# For deleting existing files\n",
    "#shutil.rmtree('/dsa/groups/capstonesp2022/on-campus/group_1/data/2011')"
   ]
  },
  {
   "cell_type": "code",
   "execution_count": null,
   "metadata": {},
   "outputs": [],
   "source": []
  }
 ],
 "metadata": {
  "kernelspec": {
   "display_name": "Python 3",
   "language": "python",
   "name": "python3"
  },
  "language_info": {
   "codemirror_mode": {
    "name": "ipython",
    "version": 3
   },
   "file_extension": ".py",
   "mimetype": "text/x-python",
   "name": "python",
   "nbconvert_exporter": "python",
   "pygments_lexer": "ipython3",
   "version": "3.7.3"
  }
 },
 "nbformat": 4,
 "nbformat_minor": 2
}
