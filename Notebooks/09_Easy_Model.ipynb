{
 "cells": [
  {
   "cell_type": "code",
   "execution_count": 1,
   "metadata": {},
   "outputs": [],
   "source": [
    "%matplotlib inline\n",
    "import matplotlib.pyplot as plt\n",
    "import numpy as np\n",
    "import pandas as pd\n",
    "import seaborn as sns\n",
    "from sklearn.model_selection import cross_val_score, train_test_split\n",
    "from sklearn.metrics import classification_report\n",
    "from sklearn.linear_model import LogisticRegression\n",
    "from sklearn.ensemble import RandomForestClassifier\n",
    "from sklearn.ensemble import GradientBoostingClassifier\n",
    "from xgboost.sklearn import XGBClassifier\n",
    "\n",
    "from sklearn.metrics import precision_score, f1_score, recall_score, accuracy_score\n",
    "from sklearn.metrics import confusion_matrix, classification_report\n",
    "from sklearn.model_selection import GridSearchCV\n",
    "from sklearn.pipeline import Pipeline\n",
    "\n",
    "from sklearn.metrics import roc_curve\n",
    "from sklearn.metrics import roc_auc_score\n",
    "\n",
    "import joblib"
   ]
  },
  {
   "cell_type": "code",
   "execution_count": 2,
   "metadata": {},
   "outputs": [],
   "source": [
    "df=joblib.load('/dsa/groups/capstonesp2022/on-campus/group_1/data/train_dataset.pkl')"
   ]
  },
  {
   "cell_type": "code",
   "execution_count": 3,
   "metadata": {},
   "outputs": [
    {
     "data": {
      "text/plain": [
       "(9887, 22)"
      ]
     },
     "execution_count": 3,
     "metadata": {},
     "output_type": "execute_result"
    }
   ],
   "source": [
    "df.shape"
   ]
  },
  {
   "cell_type": "code",
   "execution_count": 4,
   "metadata": {},
   "outputs": [],
   "source": [
    "df.loc[df['BMI'] < 18.5, 'BMI']= 1\n",
    "df.loc[(df['BMI'] >= 18.5) & (df['BMI'] <= 24.9) ,'BMI']= 2 # Normal\n",
    "df.loc[(df['BMI'] >= 25) & (df['BMI'] <= 29.9),'BMI']= 3 # Overweight\n",
    "df.loc[(df['BMI'] > 30),'BMI']= 4 # Obese"
   ]
  },
  {
   "cell_type": "code",
   "execution_count": 5,
   "metadata": {},
   "outputs": [
    {
     "data": {
      "text/html": [
       "<div>\n",
       "<style scoped>\n",
       "    .dataframe tbody tr th:only-of-type {\n",
       "        vertical-align: middle;\n",
       "    }\n",
       "\n",
       "    .dataframe tbody tr th {\n",
       "        vertical-align: top;\n",
       "    }\n",
       "\n",
       "    .dataframe thead th {\n",
       "        text-align: right;\n",
       "    }\n",
       "</style>\n",
       "<table border=\"1\" class=\"dataframe\">\n",
       "  <thead>\n",
       "    <tr style=\"text-align: right;\">\n",
       "      <th></th>\n",
       "      <th>sedentary_q</th>\n",
       "      <th>sodium_q</th>\n",
       "      <th>potassium_q</th>\n",
       "      <th>caffeine_q</th>\n",
       "      <th>gender</th>\n",
       "      <th>age</th>\n",
       "      <th>active_duty</th>\n",
       "      <th>pulse_regularity</th>\n",
       "      <th>smoke</th>\n",
       "      <th>alcohol</th>\n",
       "      <th>...</th>\n",
       "      <th>salt_add_at_table</th>\n",
       "      <th>salt_add_in_preparation</th>\n",
       "      <th>HBP</th>\n",
       "      <th>BMI</th>\n",
       "      <th>race_mexican_american</th>\n",
       "      <th>race_other_hispanic</th>\n",
       "      <th>race_white</th>\n",
       "      <th>race_black</th>\n",
       "      <th>race_multi_racial</th>\n",
       "      <th>race_asian</th>\n",
       "    </tr>\n",
       "  </thead>\n",
       "  <tbody>\n",
       "    <tr>\n",
       "      <th>14514</th>\n",
       "      <td>2</td>\n",
       "      <td>3.0</td>\n",
       "      <td>3.0</td>\n",
       "      <td>2.0</td>\n",
       "      <td>0</td>\n",
       "      <td>61.0</td>\n",
       "      <td>1</td>\n",
       "      <td>0.0</td>\n",
       "      <td>0.0</td>\n",
       "      <td>0.0</td>\n",
       "      <td>...</td>\n",
       "      <td>1.0</td>\n",
       "      <td>3.0</td>\n",
       "      <td>0</td>\n",
       "      <td>4.0</td>\n",
       "      <td>0.0</td>\n",
       "      <td>0.0</td>\n",
       "      <td>0.0</td>\n",
       "      <td>0.0</td>\n",
       "      <td>0.0</td>\n",
       "      <td>1.0</td>\n",
       "    </tr>\n",
       "    <tr>\n",
       "      <th>14515</th>\n",
       "      <td>2</td>\n",
       "      <td>5.0</td>\n",
       "      <td>2.0</td>\n",
       "      <td>2.0</td>\n",
       "      <td>0</td>\n",
       "      <td>22.0</td>\n",
       "      <td>0</td>\n",
       "      <td>0.0</td>\n",
       "      <td>0.0</td>\n",
       "      <td>0.0</td>\n",
       "      <td>...</td>\n",
       "      <td>2.0</td>\n",
       "      <td>3.0</td>\n",
       "      <td>0</td>\n",
       "      <td>2.0</td>\n",
       "      <td>0.0</td>\n",
       "      <td>0.0</td>\n",
       "      <td>1.0</td>\n",
       "      <td>0.0</td>\n",
       "      <td>0.0</td>\n",
       "      <td>0.0</td>\n",
       "    </tr>\n",
       "    <tr>\n",
       "      <th>14517</th>\n",
       "      <td>1</td>\n",
       "      <td>1.0</td>\n",
       "      <td>1.0</td>\n",
       "      <td>3.0</td>\n",
       "      <td>0</td>\n",
       "      <td>64.0</td>\n",
       "      <td>1</td>\n",
       "      <td>0.0</td>\n",
       "      <td>1.0</td>\n",
       "      <td>0.0</td>\n",
       "      <td>...</td>\n",
       "      <td>3.0</td>\n",
       "      <td>4.0</td>\n",
       "      <td>0</td>\n",
       "      <td>2.0</td>\n",
       "      <td>0.0</td>\n",
       "      <td>0.0</td>\n",
       "      <td>1.0</td>\n",
       "      <td>0.0</td>\n",
       "      <td>0.0</td>\n",
       "      <td>0.0</td>\n",
       "    </tr>\n",
       "    <tr>\n",
       "      <th>14518</th>\n",
       "      <td>2</td>\n",
       "      <td>2.0</td>\n",
       "      <td>5.0</td>\n",
       "      <td>2.0</td>\n",
       "      <td>0</td>\n",
       "      <td>70.0</td>\n",
       "      <td>1</td>\n",
       "      <td>0.0</td>\n",
       "      <td>0.0</td>\n",
       "      <td>0.0</td>\n",
       "      <td>...</td>\n",
       "      <td>0.0</td>\n",
       "      <td>2.0</td>\n",
       "      <td>0</td>\n",
       "      <td>2.0</td>\n",
       "      <td>0.0</td>\n",
       "      <td>0.0</td>\n",
       "      <td>0.0</td>\n",
       "      <td>0.0</td>\n",
       "      <td>0.0</td>\n",
       "      <td>1.0</td>\n",
       "    </tr>\n",
       "    <tr>\n",
       "      <th>14523</th>\n",
       "      <td>1</td>\n",
       "      <td>2.0</td>\n",
       "      <td>2.0</td>\n",
       "      <td>1.0</td>\n",
       "      <td>0</td>\n",
       "      <td>26.0</td>\n",
       "      <td>1</td>\n",
       "      <td>1.0</td>\n",
       "      <td>0.0</td>\n",
       "      <td>0.0</td>\n",
       "      <td>...</td>\n",
       "      <td>1.0</td>\n",
       "      <td>2.0</td>\n",
       "      <td>0</td>\n",
       "      <td>4.0</td>\n",
       "      <td>0.0</td>\n",
       "      <td>1.0</td>\n",
       "      <td>0.0</td>\n",
       "      <td>0.0</td>\n",
       "      <td>0.0</td>\n",
       "      <td>0.0</td>\n",
       "    </tr>\n",
       "  </tbody>\n",
       "</table>\n",
       "<p>5 rows × 22 columns</p>\n",
       "</div>"
      ],
      "text/plain": [
       "      sedentary_q  sodium_q  potassium_q  caffeine_q  gender   age  \\\n",
       "14514           2       3.0          3.0         2.0       0  61.0   \n",
       "14515           2       5.0          2.0         2.0       0  22.0   \n",
       "14517           1       1.0          1.0         3.0       0  64.0   \n",
       "14518           2       2.0          5.0         2.0       0  70.0   \n",
       "14523           1       2.0          2.0         1.0       0  26.0   \n",
       "\n",
       "       active_duty  pulse_regularity  smoke  alcohol  ...  salt_add_at_table  \\\n",
       "14514            1               0.0    0.0      0.0  ...                1.0   \n",
       "14515            0               0.0    0.0      0.0  ...                2.0   \n",
       "14517            1               0.0    1.0      0.0  ...                3.0   \n",
       "14518            1               0.0    0.0      0.0  ...                0.0   \n",
       "14523            1               1.0    0.0      0.0  ...                1.0   \n",
       "\n",
       "       salt_add_in_preparation  HBP  BMI  race_mexican_american  \\\n",
       "14514                      3.0    0  4.0                    0.0   \n",
       "14515                      3.0    0  2.0                    0.0   \n",
       "14517                      4.0    0  2.0                    0.0   \n",
       "14518                      2.0    0  2.0                    0.0   \n",
       "14523                      2.0    0  4.0                    0.0   \n",
       "\n",
       "       race_other_hispanic  race_white  race_black  race_multi_racial  \\\n",
       "14514                  0.0         0.0         0.0                0.0   \n",
       "14515                  0.0         1.0         0.0                0.0   \n",
       "14517                  0.0         1.0         0.0                0.0   \n",
       "14518                  0.0         0.0         0.0                0.0   \n",
       "14523                  1.0         0.0         0.0                0.0   \n",
       "\n",
       "       race_asian  \n",
       "14514         1.0  \n",
       "14515         0.0  \n",
       "14517         0.0  \n",
       "14518         1.0  \n",
       "14523         0.0  \n",
       "\n",
       "[5 rows x 22 columns]"
      ]
     },
     "execution_count": 5,
     "metadata": {},
     "output_type": "execute_result"
    }
   ],
   "source": [
    "df.head()"
   ]
  },
  {
   "cell_type": "code",
   "execution_count": 6,
   "metadata": {},
   "outputs": [],
   "source": [
    "X = df[['age','BMI']]\n",
    "y = df['HBP']\n",
    "\n",
    "X_train, X_test, y_train, y_test = train_test_split(X, y, test_size=0.2)"
   ]
  },
  {
   "cell_type": "code",
   "execution_count": 7,
   "metadata": {},
   "outputs": [
    {
     "name": "stdout",
     "output_type": "stream",
     "text": [
      "weights: \n",
      "[[0.06630085 0.5311429 ]]\n",
      "Intercept: \n",
      "[-4.63133019]\n"
     ]
    }
   ],
   "source": [
    "lg=LogisticRegression(max_iter = 10000)\n",
    "lg.fit(X_train,y_train)\n",
    "\n",
    "print('weights: ')\n",
    "print(lg.coef_)\n",
    "print('Intercept: ')\n",
    "print(lg.intercept_)"
   ]
  },
  {
   "cell_type": "code",
   "execution_count": 8,
   "metadata": {},
   "outputs": [
    {
     "name": "stdout",
     "output_type": "stream",
     "text": [
      "[[668 292]\n",
      " [239 779]]\n",
      "              precision    recall  f1-score   support\n",
      "\n",
      "           0       0.74      0.70      0.72       960\n",
      "           1       0.73      0.77      0.75      1018\n",
      "\n",
      "    accuracy                           0.73      1978\n",
      "   macro avg       0.73      0.73      0.73      1978\n",
      "weighted avg       0.73      0.73      0.73      1978\n",
      "\n"
     ]
    }
   ],
   "source": [
    "#Predict training set:\n",
    "y_pred = lg.predict(X_test)\n",
    "    \n",
    "print(confusion_matrix(y_test, y_pred))\n",
    "print(classification_report(y_test, y_pred))"
   ]
  },
  {
   "cell_type": "code",
   "execution_count": 9,
   "metadata": {},
   "outputs": [],
   "source": [
    "CM = confusion_matrix(y_test, y_pred)\n",
    "TN = CM[0][0]\n",
    "FN = CM[1][0]\n",
    "TP = CM[1][1]\n",
    "FP = CM[0][1]"
   ]
  },
  {
   "cell_type": "code",
   "execution_count": 10,
   "metadata": {},
   "outputs": [
    {
     "data": {
      "text/html": [
       "<div>\n",
       "<style scoped>\n",
       "    .dataframe tbody tr th:only-of-type {\n",
       "        vertical-align: middle;\n",
       "    }\n",
       "\n",
       "    .dataframe tbody tr th {\n",
       "        vertical-align: top;\n",
       "    }\n",
       "\n",
       "    .dataframe thead th {\n",
       "        text-align: right;\n",
       "    }\n",
       "</style>\n",
       "<table border=\"1\" class=\"dataframe\">\n",
       "  <thead>\n",
       "    <tr style=\"text-align: right;\">\n",
       "      <th></th>\n",
       "      <th>TPR</th>\n",
       "      <th>TNR</th>\n",
       "      <th>FPR</th>\n",
       "      <th>FNR</th>\n",
       "      <th>AUC</th>\n",
       "    </tr>\n",
       "  </thead>\n",
       "  <tbody>\n",
       "    <tr>\n",
       "      <th>0</th>\n",
       "      <td>0.77</td>\n",
       "      <td>0.7</td>\n",
       "      <td>0.3</td>\n",
       "      <td>0.23</td>\n",
       "      <td>0.8</td>\n",
       "    </tr>\n",
       "  </tbody>\n",
       "</table>\n",
       "</div>"
      ],
      "text/plain": [
       "    TPR  TNR  FPR   FNR  AUC\n",
       "0  0.77  0.7  0.3  0.23  0.8"
      ]
     },
     "execution_count": 10,
     "metadata": {},
     "output_type": "execute_result"
    }
   ],
   "source": [
    "result=pd.DataFrame()\n",
    "# Sensitivity, hit rate, recall, or true positive rate\n",
    "result['TPR'] = [round(TP/(TP+FN),2)]\n",
    " # Specificity or true negative rate\n",
    "result['TNR'] = [round(TN/(TN+FP),2) ]\n",
    "        # Fall out or false positive rate\n",
    "result['FPR'] = [round(FP/(FP+TN),2)]\n",
    "         # False negative rate\n",
    "result['FNR'] = [round(FN/(TP+FN),2)]\n",
    "\n",
    "lg_probs = lg.predict_proba(X_test)\n",
    "        # keep probabilities for the positive outcome only\n",
    "lg_probs = lg_probs[:, 1]\n",
    "result['AUC'] = [round(roc_auc_score(y_test, lg_probs),2)]\n",
    "result"
   ]
  },
  {
   "cell_type": "code",
   "execution_count": 11,
   "metadata": {},
   "outputs": [
    {
     "data": {
      "image/png": "[encoded data removed]",
      "text/plain": [
       "<Figure size 432x288 with 1 Axes>"
      ]
     },
     "metadata": {
      "needs_background": "light"
     },
     "output_type": "display_data"
    }
   ],
   "source": [
    "gbc_auc = roc_auc_score(y_test, lg_probs)\n",
    "gbc_fpr, gbc_tpr, gbc_thresholds = roc_curve(y_test, lg_probs)\n",
    "plt.plot(gbc_fpr, gbc_tpr, label='ROC Curve (AUC = %0.2f)' % (gbc_auc))\n",
    "plt.plot([0, 1], [0, 1], linestyle='--', color='red', label='No skill')   \n",
    "plt.plot([0, 0, 1], [0, 1, 1], linestyle=':', color='green', label='Perfect Classifier')\n",
    "plt.xlim([-0.05, 1.05])\n",
    "plt.ylim([-0.05, 1.05])\n",
    "plt.xlabel('False positive rate')\n",
    "plt.ylabel('True positive rate')\n",
    "plt.legend(loc=\"lower right\")\n",
    "plt.show()"
   ]
  },
  {
   "cell_type": "code",
   "execution_count": 12,
   "metadata": {},
   "outputs": [],
   "source": [
    "# case one by age\n",
    "case = pd.DataFrame(\n",
    "   {\"BMI\":[2]\n",
    "   }\n",
    ")\n",
    "case=pd.concat([case]*60)\n",
    "case.insert(0,'age',range(20,20+len(case)))"
   ]
  },
  {
   "cell_type": "code",
   "execution_count": 13,
   "metadata": {},
   "outputs": [],
   "source": [
    "probs = lg.predict_proba(case)\n",
    "prediction=probs[:, 1]"
   ]
  },
  {
   "cell_type": "code",
   "execution_count": 14,
   "metadata": {},
   "outputs": [
    {
     "data": {
      "image/png": "[encoded data removed]",
      "text/plain": [
       "<Figure size 504x360 with 1 Axes>"
      ]
     },
     "metadata": {
      "needs_background": "light"
     },
     "output_type": "display_data"
    }
   ],
   "source": [
    "plt.figure(figsize=(7,5))\n",
    "plt.scatter(case['age'],prediction)\n",
    "plt.axhline(y=0.5774,xmin=0, xmax=59, color='r',linestyle='--')\n",
    "plt.axvline(x=60, ymin=0, ymax=0.6, color='r',linestyle='--')\n",
    "plt.title(\"Normal Weight\")\n",
    "plt.xlabel(\"Age\")\n",
    "plt.ylabel(\"Risk of hypertension\")\n",
    "plt.show() "
   ]
  },
  {
   "cell_type": "code",
   "execution_count": 15,
   "metadata": {},
   "outputs": [
    {
     "data": {
      "text/plain": [
       "array([0.60084963])"
      ]
     },
     "execution_count": 15,
     "metadata": {},
     "output_type": "execute_result"
    }
   ],
   "source": [
    "# case one by age\n",
    "case_new = pd.DataFrame(\n",
    "   {\"Age\":[60],\n",
    "       \"BMI\":[2]\n",
    "   }\n",
    ")\n",
    "\n",
    "lg.predict_proba(case_new)[:, 1]"
   ]
  },
  {
   "cell_type": "code",
   "execution_count": 16,
   "metadata": {},
   "outputs": [],
   "source": [
    "# case one by age\n",
    "case = pd.DataFrame(\n",
    "   {\"Age\":[25,35,50,65,25,35,50,65,25,35,50,65,25,35,50,65],\n",
    "       \"BMI\":[1,1,1,1,2,2,2,2,3,3,3,3,4,4,4,4]\n",
    "   }\n",
    ")\n",
    "probs = lg.predict_proba(case)\n",
    "prediction=probs[:, 1]\n",
    "\n",
    "case['prediction']=prediction"
   ]
  },
  {
   "cell_type": "code",
   "execution_count": 17,
   "metadata": {},
   "outputs": [],
   "source": [
    "case[\"BMI\"].replace({1: \"underweight\", 2: \"normal\", 3:'overweight',4:\"obese\"}, inplace=True)"
   ]
  },
  {
   "cell_type": "code",
   "execution_count": 18,
   "metadata": {},
   "outputs": [
    {
     "data": {
      "text/plain": [
       "Text(0, 0.5, 'Risk of hypertension')"
      ]
     },
     "execution_count": 18,
     "metadata": {},
     "output_type": "execute_result"
    },
    {
     "data": {
      "image/png": "[encoded data removed]",
      "text/plain": [
       "<Figure size 576x360 with 1 Axes>"
      ]
     },
     "metadata": {},
     "output_type": "display_data"
    }
   ],
   "source": [
    "sns.set(color_codes=False)\n",
    "plt.figure(figsize=(8,5))\n",
    "#sort = results.sort_values(by='f1', ascending=False).model_name.values\n",
    "ax = sns.barplot(x=\"BMI\", y=\"prediction\", hue='Age',data=case, palette='Set2')\n",
    "ax.set_facecolor('#eaeaf2')\n",
    "ax.legend(title=\"Age\", loc='upper left',bbox_to_anchor = (1,1))\n",
    "ax.tick_params(axis='x', rotation=0)\n",
    "ax.set_xlabel(\"BMI\")\n",
    "ax.set_ylabel(\"Risk of hypertension\")"
   ]
  }
 ],
 "metadata": {
  "kernelspec": {
   "display_name": "Python 3",
   "language": "python",
   "name": "python3"
  },
  "language_info": {
   "codemirror_mode": {
    "name": "ipython",
    "version": 3
   },
   "file_extension": ".py",
   "mimetype": "text/x-python",
   "name": "python",
   "nbconvert_exporter": "python",
   "pygments_lexer": "ipython3",
   "version": "3.7.3"
  }
 },
 "nbformat": 4,
 "nbformat_minor": 2
}
